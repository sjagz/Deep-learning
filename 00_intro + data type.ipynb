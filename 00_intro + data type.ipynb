{
 "cells": [
  {
   "cell_type": "code",
   "execution_count": null,
   "metadata": {},
   "outputs": [],
   "source": [
    "#cell\n",
    "\n",
    "#b : below (아래쪽에 새로운 cell 생성)\n",
    "#a : abobe (위쪽에 새로운 cell 생성)\n",
    "#dd : (현재cell 삭제)\n",
    "#shift + enter (현재셀을 실행시키고 아래쪽에 새로운 cell 생성)\n",
    "# #기호는 파이썬에서 1줄 주석\n",
    "# '''  ''' 안에 주석\n",
    "'''\n",
    "여기안에 다 주석\n",
    "'''\n",
    "#파이썬은 변수선언할때 data type 명시하지않는다  이럴수있는게 다 객체로 쳐서 타입은 필요없음 자바에선 기본형 int double 등이 있었지만\n",
    "#파이썬은 기본형이 존재하지않는다 \n",
    "#모두 객체\n",
    "\n"
   ]
  },
  {
   "cell_type": "code",
   "execution_count": null,
   "metadata": {},
   "outputs": [],
   "source": [
    "#python과 keyword\n",
    "#true false -> True False (대문자차이)\n",
    "#NULL이 없고 None사용\n",
    "\n",
    "#파이썬은 문자의 개념이 존재하지않음\n",
    "#파이썬은 ('') (\"\")의 차이가 없음 \n",
    "a= 'hello world'\n",
    "b= \"hello world\"\n",
    "# 둘다 상관없고 하나 코드만들때 하나를 선택해서 통일 시켜주자"
   ]
  },
  {
   "cell_type": "code",
   "execution_count": null,
   "metadata": {},
   "outputs": [],
   "source": [
    "#단항 증감연산자가없다\n",
    "# a=100\n",
    "# a++  안됨\n",
    "\n",
    "# a += 1 만 됨"
   ]
  },
  {
   "cell_type": "code",
   "execution_count": null,
   "metadata": {},
   "outputs": [],
   "source": [
    "#여러변수에 값을 쉽게 할당할수 있음\n",
    "a,b,c=10,20,30"
   ]
  },
  {
   "cell_type": "code",
   "execution_count": 1,
   "metadata": {},
   "outputs": [
    {
     "name": "stdout",
     "output_type": "stream",
     "text": [
      "20 10\n"
     ]
    }
   ],
   "source": [
    "# 변수와 swap 처리\n",
    "a,b = 10,20\n",
    "b,a = a,b\n",
    "print(a,b)"
   ]
  },
  {
   "cell_type": "code",
   "execution_count": 4,
   "metadata": {},
   "outputs": [
    {
     "name": "stdout",
     "output_type": "stream",
     "text": [
      "100\n"
     ]
    },
    {
     "ename": "NameError",
     "evalue": "name 'a' is not defined",
     "output_type": "error",
     "traceback": [
      "\u001b[1;31m---------------------------------------------------------------------------\u001b[0m",
      "\u001b[1;31mNameError\u001b[0m                                 Traceback (most recent call last)",
      "\u001b[1;32m<ipython-input-4-0f1cc772fa3e>\u001b[0m in \u001b[0;36m<module>\u001b[1;34m\u001b[0m\n\u001b[0;32m      3\u001b[0m \u001b[0mprint\u001b[0m\u001b[1;33m(\u001b[0m\u001b[0ma\u001b[0m\u001b[1;33m)\u001b[0m\u001b[1;33m\u001b[0m\u001b[1;33m\u001b[0m\u001b[0m\n\u001b[0;32m      4\u001b[0m \u001b[1;32mdel\u001b[0m \u001b[0ma\u001b[0m\u001b[1;33m\u001b[0m\u001b[1;33m\u001b[0m\u001b[0m\n\u001b[1;32m----> 5\u001b[1;33m \u001b[0mprint\u001b[0m\u001b[1;33m(\u001b[0m\u001b[0ma\u001b[0m\u001b[1;33m)\u001b[0m\u001b[1;33m\u001b[0m\u001b[1;33m\u001b[0m\u001b[0m\n\u001b[0m",
      "\u001b[1;31mNameError\u001b[0m: name 'a' is not defined"
     ]
    }
   ],
   "source": [
    "#변수 삭제 가능 \n",
    "a=100\n",
    "print(a)\n",
    "del a\n",
    "print(a)\n"
   ]
  },
  {
   "cell_type": "code",
   "execution_count": 5,
   "metadata": {},
   "outputs": [],
   "source": [
    "#in not in"
   ]
  },
  {
   "cell_type": "code",
   "execution_count": 26,
   "metadata": {},
   "outputs": [
    {
     "name": "stdout",
     "output_type": "stream",
     "text": [
      "나는 사과 3개를 가지고있어요\n",
      "나는 사과 10개를 가지고 있어요\n",
      "나는 사과 다섯개를 가지고 있어요\n",
      "나는사과3개 참외5개 있어요\n",
      "공장 가동률은 95%입니다\n",
      "나는 사과 10        개가 있어요\n",
      "나는 사과         10개가 있어요\n",
      "원주율은 3.141592입니다\n",
      "원주율은 3.1416입니다\n"
     ]
    }
   ],
   "source": [
    "#문자열 formatting(%d ,%f , %s 등등등) \n",
    "str=\"나는 사과 %d개를 가지고있어요\"   %3\n",
    "print(str)\n",
    "amount = 10 \n",
    "str = \"나는 사과 %d개를 가지고 있어요\" %amount\n",
    "print(str)\n",
    "str = \"나는 사과 %s개를 가지고 있어요\" %\"다섯\"\n",
    "print(str)\n",
    "\n",
    "#역슬레시 = 코드가 계속 이어지는것 \n",
    "\n",
    "str=\"나는사과%d개 참외%d개 있어요\"    \\\n",
    "%(3,5)\n",
    "print(str)\n",
    "\n",
    "str = \"공장 가동률은 %d%%입니다\" %95\n",
    "print(str)\n",
    "\n",
    "#숫자가 양수면 오른쪽 정렬 음수이면 왼쪽이면 \n",
    "\n",
    "str = \"나는 사과 %-10d개가 있어요\" %10\n",
    "print(str)\n",
    "str = \"나는 사과 %10d개가 있어요\" %10\n",
    "print(str)\n",
    "\n",
    "str = \"원주율은 %f입니다\" %3.141592\n",
    "print(str)\n",
    "str = \"원주율은 %.4f입니다\" %3.141592 #반올림처리\n",
    "print(str)\n"
   ]
  },
  {
   "cell_type": "code",
   "execution_count": 40,
   "metadata": {},
   "outputs": [
    {
     "name": "stdout",
     "output_type": "stream",
     "text": [
      "<class 'str'>\n",
      "8\n",
      "3\n",
      "3\n",
      "3\n",
      "-1\n"
     ]
    },
    {
     "ename": "ValueError",
     "evalue": "substring not found",
     "output_type": "error",
     "traceback": [
      "\u001b[1;31m---------------------------------------------------------------------------\u001b[0m",
      "\u001b[1;31mValueError\u001b[0m                                Traceback (most recent call last)",
      "\u001b[1;32m<ipython-input-40-b181614cf46f>\u001b[0m in \u001b[0;36m<module>\u001b[1;34m\u001b[0m\n\u001b[0;32m     24\u001b[0m \u001b[0mprint\u001b[0m\u001b[1;33m(\u001b[0m\u001b[0mresult\u001b[0m\u001b[1;33m)\u001b[0m\u001b[1;33m\u001b[0m\u001b[1;33m\u001b[0m\u001b[0m\n\u001b[0;32m     25\u001b[0m \u001b[1;33m\u001b[0m\u001b[0m\n\u001b[1;32m---> 26\u001b[1;33m \u001b[0mresult\u001b[0m \u001b[1;33m=\u001b[0m \u001b[0mstr\u001b[0m\u001b[1;33m.\u001b[0m\u001b[0mindex\u001b[0m\u001b[1;33m(\u001b[0m\u001b[1;34m\"b\"\u001b[0m\u001b[1;33m)\u001b[0m \u001b[1;31m# 인자로 들어온 문자열이 맨처음 나타나는 위치 없는 글자는 error 출력\u001b[0m\u001b[1;33m\u001b[0m\u001b[1;33m\u001b[0m\u001b[0m\n\u001b[0m\u001b[0;32m     27\u001b[0m \u001b[0mprint\u001b[0m\u001b[1;33m(\u001b[0m\u001b[0mresult\u001b[0m\u001b[1;33m)\u001b[0m\u001b[1;33m\u001b[0m\u001b[1;33m\u001b[0m\u001b[0m\n\u001b[0;32m     28\u001b[0m \u001b[1;33m\u001b[0m\u001b[0m\n",
      "\u001b[1;31mValueError\u001b[0m: substring not found"
     ]
    }
   ],
   "source": [
    "str =\"hello\"\n",
    "print(type(str))\n",
    "\n",
    "#내장함수 중 dir() 객체가 가지고 있는 property와 method 출력\n",
    "#method를 리스트로 리턴\n",
    "\n",
    "\n",
    "str = \"cocacola\"\n",
    "result = len(str) # 인자로 들어오는 것의 개수를 count\n",
    "print(result)\n",
    "\n",
    "\n",
    "result = str.count(\"c\") # 인자로 들어온 문자열이 몇개있는지 센다 cocacola 에 c가 몇개냐?\n",
    "\n",
    "print(result)\n",
    "\n",
    "result = str.find(\"a\") # 인자로 들어온 문자열이 맨처음 나타나는 위치 없는 글자는 -1 출력\n",
    "print(result)\n",
    "\n",
    "result = str.index(\"a\") # 인자로 들어온 문자열이 맨처음 나타나는 위치 없는 글자는 -1 출력\n",
    "print(result)\n",
    "\n",
    "result = str.find(\"b\") # 인자로 들어온 문자열이 맨처음 나타나는 위치 없는 글자는 -1 출력\n",
    "print(result)\n",
    "\n",
    "result = str.index(\"b\") # 인자로 들어온 문자열이 맨처음 나타나는 위치 없는 글자는 error 출력\n",
    "print(result)\n"
   ]
  },
  {
   "cell_type": "code",
   "execution_count": 42,
   "metadata": {},
   "outputs": [
    {
     "name": "stdout",
     "output_type": "stream",
     "text": [
      "a-b-c-d-e-f\n",
      "    HELLO     WORLD \n",
      "    hello     world \n",
      "hello     world\n"
     ]
    }
   ],
   "source": [
    "\n",
    "a=\"-\"\n",
    "b=\"abcdef\" #abcdef => a-b-c-d-e-f 를 해주고싶을때\n",
    "\n",
    "result = a.join(b)\n",
    "print(result)\n",
    "\n",
    "\n",
    "str = \"    hello     world      \"\n",
    "print(str.upper())     #다 대문자\n",
    "print(str.lower())     #다 소문자\n",
    "print(str.strip())     # 양쪽 공백 다 삭제\n",
    "\n",
    "\n"
   ]
  },
  {
   "cell_type": "code",
   "execution_count": 48,
   "metadata": {},
   "outputs": [
    {
     "name": "stdout",
     "output_type": "stream",
     "text": [
      "show me the money\n",
      "show me the code\n",
      "['show', 'me', 'the', 'code']\n",
      "['a', 'b', 'c', 'd', 'e']\n"
     ]
    }
   ],
   "source": [
    "# 문자열 함수 \n",
    "\n",
    "str = \"show me the code\" \n",
    "#문자열은 기본적으로 불변의 특성   sting 또한 불변의 특성이고 이 문자열은 낭비가 심해 string buffer을 썼던거\n",
    "result = str.replace(\"code\" , \"money\") #원본 문자열은 변함이 없다\n",
    "print(result)\n",
    "print(str)\n",
    "\n",
    "\n",
    "result = str.split() #()안에 구분자 list 로 결과 return\n",
    "\n",
    "print(result)\n",
    "\n",
    "str=\"a::b::c::d::e\"\n",
    "\n",
    "result = str.split(\"::\")\n",
    "print (result)\n",
    "\n",
    "\n"
   ]
  },
  {
   "cell_type": "code",
   "execution_count": 56,
   "metadata": {},
   "outputs": [
    {
     "name": "stdout",
     "output_type": "stream",
     "text": [
      "나는 사과 5개 있어요\n",
      "나는 사과 5개 바나나3개 있어요\n",
      "나는 사과 3개 바나나5개 있어요\n",
      "나는 사과 3개 바나나5개 있어요\n"
     ]
    }
   ],
   "source": [
    "#파이썬에서 일반적으로 사용되는 문자열\n",
    "#formatting method\n",
    "\n",
    "str = \"나는 사과 {}개 있어요\".format(5)\n",
    "print (str)\n",
    "str = \"나는 사과 {}개 바나나{}개 있어요\".format(5,3) #중괄호 \n",
    "print (str)\n",
    "str = \"나는 사과 {num2}개 바나나{num1}개 있어요\".format(num1=5,num2=3) #중괄호 \n",
    "print (str)\n",
    "str = \"나는 사과 {1}개 바나나{0}개 있어요\".format(5,3) #중괄호 \n",
    "print (str)"
   ]
  },
  {
   "cell_type": "code",
   "execution_count": 64,
   "metadata": {},
   "outputs": [
    {
     "name": "stdout",
     "output_type": "stream",
     "text": [
      "원주율은 3.142입니다\n",
      "1,234,567,890\n",
      "87.36%\n"
     ]
    }
   ],
   "source": [
    "str=\"원주율은 {0:0.3f}입니다\".format(3.141592)\n",
    "print(str)\n",
    "\n",
    "\n",
    "#천단위마다 , 출력\n",
    "num = 1234567890\n",
    "str = \"{0:,}\".format(num)\n",
    "print(str)\n",
    "\n",
    "num = 0.87356\n",
    "str=\"{0:.2%}\".format(num)\n",
    "print(str)\n"
   ]
  },
  {
   "cell_type": "code",
   "execution_count": null,
   "metadata": {},
   "outputs": [],
   "source": []
  }
 ],
 "metadata": {
  "kernelspec": {
   "display_name": "data_env",
   "language": "python",
   "name": "data_env"
  },
  "language_info": {
   "codemirror_mode": {
    "name": "ipython",
    "version": 3
   },
   "file_extension": ".py",
   "mimetype": "text/x-python",
   "name": "python",
   "nbconvert_exporter": "python",
   "pygments_lexer": "ipython3",
   "version": "3.7.1"
  }
 },
 "nbformat": 4,
 "nbformat_minor": 2
}
