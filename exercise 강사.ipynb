{
 "cells": [
  {
   "cell_type": "code",
   "execution_count": 29,
   "metadata": {},
   "outputs": [
    {
     "name": "stdout",
     "output_type": "stream",
     "text": [
      "결과 : 554\n"
     ]
    }
   ],
   "source": [
    "# exercise-1\n",
    "#str = input(\"숫자열을 입력하세요!!\")\n",
    "str = \"7652310\"\n",
    "\n",
    "num = len(str) // 2\n",
    "str1 = str[:num]\n",
    "str2 = str[num+1:]\n",
    "\n",
    "list1 = list(str1)\n",
    "list2 = list(str2)\n",
    "\n",
    "list1.reverse()\n",
    "list2.reverse()\n",
    "\n",
    "str1 = \"\".join(list1)\n",
    "str2 = \"\".join(list2)\n",
    "\n",
    "int1 = int(str1)\n",
    "int2 = int(str2)\n",
    "\n",
    "result = 0\n",
    "\n",
    "if int1 > int2:\n",
    "    result = int1-int2\n",
    "else:\n",
    "    result = int2-int1\n",
    "\n",
    "print(\"결과 : {}\".format(result))"
   ]
  },
  {
   "cell_type": "code",
   "execution_count": 28,
   "metadata": {},
   "outputs": [
    {
     "data": {
      "text/plain": [
       "4"
      ]
     },
     "execution_count": 28,
     "metadata": {},
     "output_type": "execute_result"
    }
   ],
   "source": [
    "# exercise-2\n",
    "def calc_count(data):\n",
    "    my_list = list()\n",
    "\n",
    "    while len(data) >= 2:\n",
    "        my_list.append(data[-2:])\n",
    "        data = data[:-2]\n",
    "\n",
    "    result = list()    \n",
    "    for tmp in my_list:\n",
    "        if (int(tmp[0])%2 == 0) and (int(tmp[1])%2 == 0)\\\n",
    "           and (int(tmp[0]) != 0) and (int(tmp[1]) != 0):\n",
    "            result.append(1)\n",
    "        else:\n",
    "            result.append(0)\n",
    "\n",
    "    accum = 0\n",
    "    for tmp in result:\n",
    "        accum += tmp\n",
    "    return accum\n",
    "\n",
    "input_data = [\"6118266283093\",\n",
    "              \"20445610\",\n",
    "              \"443564831\",\n",
    "              \"389593\",\n",
    "              \"284281569493\",\n",
    "              \"22686448\"]\n",
    "\n",
    "result_max = list()\n",
    "for tmp in input_data:\n",
    "    result_max.append(calc_count(tmp))\n",
    "max(result_max)   "
   ]
  },
  {
   "cell_type": "code",
   "execution_count": 27,
   "metadata": {},
   "outputs": [
    {
     "name": "stdout",
     "output_type": "stream",
     "text": [
      "1(4번)\n"
     ]
    }
   ],
   "source": [
    "# exercise-3\n",
    "input1 = \"Hi123987IM100SN123L23457MD31\"\n",
    "input2 = \"N1235DJ4954G99H87KAU9889EL4234GO312I199\"\n",
    "\n",
    "my_list = list()\n",
    "for tmp in input1:\n",
    "    if (tmp >= \"0\") and (tmp <= \"9\"):\n",
    "        my_list.append(tmp)\n",
    "        \n",
    "result_list = list()\n",
    "for tmp in range(10):\n",
    "    result_list.append(my_list.count(str(tmp)))\n",
    "\n",
    "_result = list()\n",
    "_max = max(result_list)\n",
    "for idx,tmp in enumerate(result_list):\n",
    "    if tmp == _max:\n",
    "        _result.append(idx)\n",
    "\n",
    "print(\"{}({}번)\".format(_result[0],_max))\n",
    "\n",
    "    "
   ]
  },
  {
   "cell_type": "code",
   "execution_count": 2,
   "metadata": {},
   "outputs": [
    {
     "data": {
      "text/plain": [
       "98"
      ]
     },
     "execution_count": 2,
     "metadata": {},
     "output_type": "execute_result"
    }
   ],
   "source": [
    "# exercise-4\n",
    "x = 5\n",
    "y = 500\n",
    "count = 0;\n",
    "\n",
    "for tmp in range(x+1,y):\n",
    "    _sum = 0\n",
    "    for k in list(str(tmp)):\n",
    "        _sum += int(k)\n",
    "    if _sum%5 == 0:\n",
    "        count += 1\n",
    "count        "
   ]
  },
  {
   "cell_type": "code",
   "execution_count": 16,
   "metadata": {},
   "outputs": [
    {
     "data": {
      "text/plain": [
       "'2'"
      ]
     },
     "execution_count": 16,
     "metadata": {},
     "output_type": "execute_result"
    }
   ],
   "source": [
    "# exercise-5\n",
    "_input = \"3278533\"\n",
    "#_input = \"12456984\"\n",
    "_result = list()\n",
    "\n",
    "for idx in range(len(_input)):\n",
    "    if int(_input[idx]) % 2 != 0:\n",
    "        _double = int(_input[idx]) * 2\n",
    "        if _double >= 10:\n",
    "            _result.append((str(_double))[-1])\n",
    "        else:\n",
    "            _result.append(str(_double))\n",
    "    else:\n",
    "        _result.append(_input[idx])\n",
    "        \n",
    "def iter_sum(_list):    \n",
    "    func_result = list()\n",
    "    for idx in range(0,len(_list),2):\n",
    "        if idx == len(_result)-1:\n",
    "            func_result.append(_list[idx])\n",
    "            break;\n",
    "        tmp_sum = int(_list[idx]) + int(_list[idx+1])\n",
    "        if tmp_sum >= 10:\n",
    "            func_result.append(str(tmp_sum)[1])\n",
    "        else:    \n",
    "            func_result.append(str(tmp_sum))\n",
    "    return func_result\n",
    "\n",
    "while len(_result) != 1:\n",
    "    _result = iter_sum(_result)        \n",
    "\n",
    "_result[0]"
   ]
  },
  {
   "cell_type": "code",
   "execution_count": 25,
   "metadata": {},
   "outputs": [
    {
     "data": {
      "text/plain": [
       "'7'"
      ]
     },
     "execution_count": 25,
     "metadata": {},
     "output_type": "execute_result"
    }
   ],
   "source": [
    "# exercise-6\n",
    "_input = \"1234567\"\n",
    "#_input = \"34217869\"\n",
    "\n",
    "def find_min(_param):\n",
    "    mid = len(_param) // 2\n",
    "    first = _param[:mid]\n",
    "    if len(_param) % 2 == 0:\n",
    "        last = _param[mid:]\n",
    "    else:\n",
    "        last = _param[mid+1:]\n",
    "\n",
    "    if int(first) > int(last):\n",
    "        return first\n",
    "    else:\n",
    "        return last\n",
    "\n",
    "while len(_input) != 1:\n",
    "    _input = find_min(_input)\n",
    "\n",
    "_input[0]    "
   ]
  }
 ],
 "metadata": {
  "kernelspec": {
   "display_name": "data_env",
   "language": "python",
   "name": "data_env"
  },
  "language_info": {
   "codemirror_mode": {
    "name": "ipython",
    "version": 3
   },
   "file_extension": ".py",
   "mimetype": "text/x-python",
   "name": "python",
   "nbconvert_exporter": "python",
   "pygments_lexer": "ipython3",
   "version": "3.6.8"
  }
 },
 "nbformat": 4,
 "nbformat_minor": 2
}
