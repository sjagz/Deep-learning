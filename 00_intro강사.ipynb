{
 "cells": [
  {
   "cell_type": "code",
   "execution_count": 8,
   "metadata": {},
   "outputs": [],
   "source": [
    "# cell\n",
    "# b : below ( 아래쪽에 새로운 cell을 생성 )\n",
    "# a : above ( 위쪽에 새로운 cell을 생성 )\n",
    "# dd : 현재 cell 삭제\n",
    "# shift + enter : 현재 cell을 실행시키고 아래쪽에\n",
    "#                 cell을 생성\n",
    "#  #기호는 python에서 1줄 주석"
   ]
  },
  {
   "cell_type": "code",
   "execution_count": 10,
   "metadata": {},
   "outputs": [
    {
     "name": "stdout",
     "output_type": "stream",
     "text": [
      "['False', 'None', 'True', 'and', 'as', 'assert', 'break', 'class', 'continue', 'def', 'del', 'elif', 'else', 'except', 'finally', 'for', 'from', 'global', 'if', 'import', 'in', 'is', 'lambda', 'nonlocal', 'not', 'or', 'pass', 'raise', 'return', 'try', 'while', 'with', 'yield']\n"
     ]
    }
   ],
   "source": [
    "# python의 keyword\n",
    "# true,false 없어요 => True, False 사용\n",
    "# null이 없어요 => None 사용\n",
    "import keyword\n",
    "\n",
    "print(keyword.kwlist)"
   ]
  },
  {
   "cell_type": "code",
   "execution_count": null,
   "metadata": {},
   "outputs": [],
   "source": [
    "# python의 주석\n",
    "# 1줄 주석 : #\n",
    "# 여러줄 주석 : \"\"\" 주석 \"\"\", ''' 주석 '''\n",
    "\"\"\"\n",
    "여기안에 있는 내용은 \n",
    "다 주석이예요!!!\n",
    "\"\"\""
   ]
  },
  {
   "cell_type": "code",
   "execution_count": null,
   "metadata": {},
   "outputs": [],
   "source": [
    "# python은 weak data type\n",
    "# python 변수를 선언할 때 data type을 명시하지\n",
    "# 않아요!!\n",
    "a = 10\n",
    "a = \"Hello\"\n",
    "# python은 기본형이 존재하지 않아요.\n",
    "# 모두 reference data type"
   ]
  },
  {
   "cell_type": "code",
   "execution_count": null,
   "metadata": {},
   "outputs": [],
   "source": [
    "# python은 문자의 개념이 존재하지 않아요!\n",
    "# python은 (') (\") 의 차이가 없다.\n",
    "a = 'hello world'\n",
    "b = \"Hello World\"\n",
    "# 어떤걸 사용해도 무방하나 섞어서 사용하면 곤란."
   ]
  },
  {
   "cell_type": "code",
   "execution_count": 12,
   "metadata": {},
   "outputs": [],
   "source": [
    "# 단항 증감연산자는 존재하지 않아요!\n",
    "# ++, -- 연산자가 없어서 => += , -=\n",
    "a = 100\n",
    "a += 1 # a++ 는 문법에러"
   ]
  },
  {
   "cell_type": "code",
   "execution_count": null,
   "metadata": {},
   "outputs": [],
   "source": [
    "# 여러변수에 값을 쉽게 assign할 수 있어요\n",
    "a, b, c = 10, 20, 30"
   ]
  },
  {
   "cell_type": "code",
   "execution_count": 13,
   "metadata": {},
   "outputs": [
    {
     "name": "stdout",
     "output_type": "stream",
     "text": [
      "20 10\n"
     ]
    }
   ],
   "source": [
    "# 변수의 swap 처리\n",
    "a, b = 10, 20\n",
    "b, a = a, b\n",
    "print(a,b)"
   ]
  },
  {
   "cell_type": "code",
   "execution_count": 17,
   "metadata": {},
   "outputs": [
    {
     "name": "stdout",
     "output_type": "stream",
     "text": [
      "100\n"
     ]
    }
   ],
   "source": [
    "# 변수 삭제 가능\n",
    "a = 100\n",
    "print(a)\n",
    "del a\n",
    "#print(a)  # error 발생"
   ]
  },
  {
   "cell_type": "code",
   "execution_count": null,
   "metadata": {},
   "outputs": [],
   "source": []
  },
  {
   "cell_type": "code",
   "execution_count": null,
   "metadata": {},
   "outputs": [],
   "source": []
  }
 ],
 "metadata": {
  "kernelspec": {
   "display_name": "data_env",
   "language": "python",
   "name": "data_env"
  },
  "language_info": {
   "codemirror_mode": {
    "name": "ipython",
    "version": 3
   },
   "file_extension": ".py",
   "mimetype": "text/x-python",
   "name": "python",
   "nbconvert_exporter": "python",
   "pygments_lexer": "ipython3",
   "version": "3.7.1"
  }
 },
 "nbformat": 4,
 "nbformat_minor": 2
}
