{
 "cells": [
  {
   "cell_type": "code",
   "execution_count": null,
   "metadata": {},
   "outputs": [
    {
     "name": "stdout",
     "output_type": "stream",
     "text": [
      "LinregressResult(slope=2.4391099055293637, intercept=-147.6460723805951, rvalue=0.6985414096486391, pvalue=1.5526772293928758e-17, stderr=0.23931937849409174)\n"
     ]
    },
    {
     "data": {
      "image/png": "[encoded data removed]",
      "text/plain": [
       "<Figure size 432x288 with 1 Axes>"
      ]
     },
     "metadata": {
      "needs_background": "light"
     },
     "output_type": "display_data"
    }
   ],
   "source": [
    "%matplotlib inline\n",
    "\n",
    "import numpy as np\n",
    "import pandas as pd\n",
    "import matplotlib\n",
    "import matplotlib.pyplot as plt\n",
    "from scipy import stats\n",
    "import pandas as df\n",
    "\n",
    "\n",
    "\n",
    "\n",
    "\n",
    "\n",
    "#data loading\n",
    "data=pd.read_csv('./data/ozone/ozone.csv', sep=\",\")\n",
    "\n",
    "#nan 지우기\n",
    "data1=data.dropna(how= \"any\", inplace=False ) #원본 보존\n",
    "\n",
    "x=data1[\"Temp\"]\n",
    "y=data1[\"Ozone\"]\n",
    "\n",
    "result=stats.linregress(x,y)\n",
    "\n",
    "print(result)\n",
    "w=result[0]\n",
    "b=result[1]\n",
    "\n",
    "h=w*x+b\n",
    "\n",
    "plt.scatter(x,y)\n",
    "\n",
    "plt.plot(x,h,\"r\")\n",
    "\n",
    "plt.show()\n",
    "\n",
    "\n",
    "x=int(input(\"온도를 입력하세요\"))\n",
    "\n",
    "h=w*x+b\n",
    "\n",
    "print(\"오존량:\", h)\n",
    "\n"
   ]
  },
  {
   "cell_type": "code",
   "execution_count": 17,
   "metadata": {},
   "outputs": [
    {
     "name": "stdout",
     "output_type": "stream",
     "text": [
      "Optimization terminated successfully.\n",
      "         Current function value: 0.573147\n",
      "         Iterations 6\n",
      "gre입력:1000\n",
      "gpa입력:3\n",
      "rank입력:3\n",
      "400\n"
     ]
    },
    {
     "data": {
      "text/html": [
       "<div>\n",
       "<style scoped>\n",
       "    .dataframe tbody tr th:only-of-type {\n",
       "        vertical-align: middle;\n",
       "    }\n",
       "\n",
       "    .dataframe tbody tr th {\n",
       "        vertical-align: top;\n",
       "    }\n",
       "\n",
       "    .dataframe thead th {\n",
       "        text-align: right;\n",
       "    }\n",
       "</style>\n",
       "<table border=\"1\" class=\"dataframe\">\n",
       "  <thead>\n",
       "    <tr style=\"text-align: right;\">\n",
       "      <th></th>\n",
       "      <th>gre</th>\n",
       "      <th>gpa</th>\n",
       "      <th>rank_1</th>\n",
       "      <th>rank_2</th>\n",
       "      <th>rank_3</th>\n",
       "      <th>rank_4</th>\n",
       "    </tr>\n",
       "  </thead>\n",
       "  <tbody>\n",
       "    <tr>\n",
       "      <th>400</th>\n",
       "      <td>1000.0</td>\n",
       "      <td>3.0</td>\n",
       "      <td>0.0</td>\n",
       "      <td>0.0</td>\n",
       "      <td>1.0</td>\n",
       "      <td>0.0</td>\n",
       "    </tr>\n",
       "  </tbody>\n",
       "</table>\n",
       "</div>"
      ],
      "text/plain": [
       "        gre  gpa  rank_1  rank_2  rank_3  rank_4\n",
       "400  1000.0  3.0     0.0     0.0     1.0     0.0"
      ]
     },
     "metadata": {},
     "output_type": "display_data"
    },
    {
     "name": "stdout",
     "output_type": "stream",
     "text": [
      "admit=0 불합격입니다\n"
     ]
    }
   ],
   "source": [
    "\n",
    "import tensorflow as tf\n",
    "import numpy as np\n",
    "import pandas as pd\n",
    "import statsmodels.api as sm\n",
    "from sklearn.preprocessing import MinMaxScaler\n",
    "import warnings\n",
    "warnings.filterwarnings(action=\"ignore\")\n",
    "tf.reset_default_graph()\n",
    "data=pd.read_csv(\"./data/admission/admission.csv\" , sep=\",\") #sep 는 csv가 ,로 구분되어있어서 defalt 값??\n",
    "       \n",
    "data_x = data[[\"gre\",\"gpa\",\"rank\"]]\n",
    "data_y = data[\"admit\"]\n",
    "\n",
    "pclass_dummies = pd.get_dummies(data_x[\"rank\"],prefix=\"rank\")\n",
    "data_x= data_x.join(pclass_dummies)\n",
    "data_x.drop(\"rank\", axis=1 , inplace=True )\n",
    "\n",
    "logit = sm.Logit(data_y,data_x)#모델생성 #레이블 먼저 넣고 그다음 값 \n",
    "\n",
    "result=logit.fit()#학습과정\n",
    "\n",
    "\n",
    "### 입력값받고 처리하는 부분\n",
    "\n",
    "data=pd.read_csv(\"./data/admission/admission.csv\" , sep=\",\") \n",
    "data_x = data[[\"gre\",\"gpa\",\"rank\"]]\n",
    "data_y = data[\"admit\"]\n",
    "\n",
    "\n",
    "testdata_x=[int(input(\"gre입력:\")),int(input(\"gpa입력:\")),int(input(\"rank입력:\"))]\n",
    "data_len=int(len(data_x))\n",
    "print(data_len)\n",
    "data_x.loc[data_len] = testdata_x\n",
    "\n",
    "pclass_dummies = pd.get_dummies(data_x[\"rank\"],prefix=\"rank\")\n",
    "data_x= data_x.join(pclass_dummies)\n",
    "data_x.drop(\"rank\", axis=1 , inplace=True )\n",
    "\n",
    "data_x=pd.DataFrame(data_x.loc[(data_len)])\n",
    "#data_x=data_x.loc[int(len(data_x)-1)]\n",
    "data_x=data_x.transpose()\n",
    "\n",
    "display(data_x)\n",
    "\n",
    "### 입력값받고 처리하는 부분\n",
    "\n",
    "\n",
    "result1=result.predict(data_x)#예측\n",
    "\n",
    "\n",
    "\n",
    "predict = tf.cast(result1>0.5 ,dtype=tf.float32) \n",
    "\n",
    "sess=tf.Session() #새션\n",
    "\n",
    "sess.run(tf.global_variables_initializer()) #런과 초기화\n",
    "predict_value = sess.run(predict)\n",
    "\n",
    "if predict_value==1:\n",
    "    print(\"admit=1 합격입니다\")\n",
    "else:\n",
    "    print(\"admit=0 불합격입니다\")\n",
    "\n"
   ]
  },
  {
   "cell_type": "code",
   "execution_count": null,
   "metadata": {},
   "outputs": [],
   "source": []
  }
 ],
 "metadata": {
  "kernelspec": {
   "display_name": "[GPU_ENV]",
   "language": "python",
   "name": "gpu_env"
  },
  "language_info": {
   "codemirror_mode": {
    "name": "ipython",
    "version": 3
   },
   "file_extension": ".py",
   "mimetype": "text/x-python",
   "name": "python",
   "nbconvert_exporter": "python",
   "pygments_lexer": "ipython3",
   "version": "3.6.8"
  }
 },
 "nbformat": 4,
 "nbformat_minor": 2
}
