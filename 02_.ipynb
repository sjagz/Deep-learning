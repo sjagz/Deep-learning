{
 "cells": [
  {
   "cell_type": "code",
   "execution_count": 14,
   "metadata": {},
   "outputs": [
    {
     "ename": "IndentationError",
     "evalue": "expected an indented block (<ipython-input-14-7c7f8f0fe380>, line 5)",
     "output_type": "error",
     "traceback": [
      "\u001b[1;36m  File \u001b[1;32m\"<ipython-input-14-7c7f8f0fe380>\"\u001b[1;36m, line \u001b[1;32m5\u001b[0m\n\u001b[1;33m    pass\u001b[0m\n\u001b[1;37m       ^\u001b[0m\n\u001b[1;31mIndentationError\u001b[0m\u001b[1;31m:\u001b[0m expected an indented block\n"
     ]
    }
   ],
   "source": [
    "city =[\"서울\",\"대전\",\"부산\"]\n",
    "\n",
    "\n",
    "if \"제주\" in city:\n",
    "pass\n",
    "elif \"대전\" in city:\n",
    "\n",
    "print(\"대전있어요\")\n",
    "\n",
    "else :\n",
    "print(\"부산\")\n",
    "\n",
    "\n",
    "\n",
    "\n",
    "\n"
   ]
  },
  {
   "cell_type": "code",
   "execution_count": 141,
   "metadata": {},
   "outputs": [
    {
     "name": "stdout",
     "output_type": "stream",
     "text": [
      "이번주 로또번호 입력1 2 3 4 5 6\n",
      "{'5', '3', '4', '6', '1', '2'}\n",
      "{'9', '38', '43', '36', '44', '14'}\n",
      "꽝입니다.!!\n",
      "이번주 로또 번호 : {'9', '38', '43', '36', '44', '14'}\n",
      "맞춘 개수 : 0\n"
     ]
    }
   ],
   "source": [
    "#난수 발생 \n",
    "\n",
    "#lotto program 작성\n",
    "\n",
    "\n",
    "\n",
    "import random \n",
    "\n",
    "\n",
    "lotto=set() #중복이 없어야하기에 set을 씀\n",
    "\n",
    "while len(lotto) !=6:\n",
    "    lotto.add(str(random.randint(1,46))) # 문자열로 비교해야해서 문자열 형태로 처리\n",
    "    \n",
    "user = input(\"이번주 로또번호 입력\")\n",
    "\n",
    "user_set = set(user.split(\" \"))\n",
    "print(user_set)\n",
    "print(lotto)\n",
    "count = len(lotto & user_set)\n",
    "\n",
    "if count == 6:\n",
    "    print(\"1등입니다.!!\")\n",
    "elif count == 5:\n",
    "    print(\"2등입니다.!!\")\n",
    "elif count == 4:\n",
    "    print(\"3등입니다.!!\")\n",
    "elif count == 3: \n",
    "    print(\"4등입니다.!!\")\n",
    "else:\n",
    "    print(\"꽝입니다.!!\")\n",
    "print(\"이번주 로또 번호 : {}\".format(lotto)) \n",
    "print(\"맞춘 개수 : {}\".format(count)) \n",
    "    \n"
   ]
  },
  {
   "cell_type": "code",
   "execution_count": 144,
   "metadata": {},
   "outputs": [
    {
     "name": "stdout",
     "output_type": "stream",
     "text": [
      "이번주 로또번호 입력123456\n"
     ]
    },
    {
     "ename": "TypeError",
     "evalue": "'set' object does not support indexing",
     "output_type": "error",
     "traceback": [
      "\u001b[1;31m---------------------------------------------------------------------------\u001b[0m",
      "\u001b[1;31mTypeError\u001b[0m                                 Traceback (most recent call last)",
      "\u001b[1;32m<ipython-input-144-086a735d54de>\u001b[0m in \u001b[0;36m<module>\u001b[1;34m\u001b[0m\n\u001b[0;32m      9\u001b[0m \u001b[0muser\u001b[0m \u001b[1;33m=\u001b[0m \u001b[0minput\u001b[0m\u001b[1;33m(\u001b[0m\u001b[1;34m\"이번주 로또번호 입력\"\u001b[0m\u001b[1;33m)\u001b[0m\u001b[1;33m\u001b[0m\u001b[1;33m\u001b[0m\u001b[0m\n\u001b[0;32m     10\u001b[0m \u001b[1;33m\u001b[0m\u001b[0m\n\u001b[1;32m---> 11\u001b[1;33m \u001b[0mprint\u001b[0m\u001b[1;33m(\u001b[0m\u001b[0mlen\u001b[0m\u001b[1;33m(\u001b[0m\u001b[0mlotto\u001b[0m\u001b[1;33m[\u001b[0m\u001b[1;36m1\u001b[0m\u001b[1;33m]\u001b[0m\u001b[1;33m)\u001b[0m\u001b[1;33m)\u001b[0m\u001b[1;33m\u001b[0m\u001b[1;33m\u001b[0m\u001b[0m\n\u001b[0m",
      "\u001b[1;31mTypeError\u001b[0m: 'set' object does not support indexing"
     ]
    }
   ],
   "source": [
    "import random \n",
    "\n",
    "\n",
    "lotto=set() #중복이 없어야하기에 set을 씀\n",
    "\n",
    "while len(lotto) !=6:\n",
    "    lotto.add(str(random.randint(1,46))) # 문자열로 비교해야해서 문자열 형태로 처리\n",
    "    \n",
    "user = input(\"이번주 로또번호 입력\")\n",
    "\n",
    "print(len(lotto[1]))\n"
   ]
  },
  {
   "cell_type": "code",
   "execution_count": 137,
   "metadata": {},
   "outputs": [
    {
     "name": "stdout",
     "output_type": "stream",
     "text": [
      "홀수개의 숫자를 입력하세요1,2,3,4,5,6\n",
      "1,2,3,4,5,6\n",
      "11\n",
      "5.5\n",
      "1,2,3\n",
      "4,5,6\n"
     ]
    },
    {
     "ename": "ValueError",
     "evalue": "invalid literal for int() with base 10: '4,5,6'",
     "output_type": "error",
     "traceback": [
      "\u001b[1;31m---------------------------------------------------------------------------\u001b[0m",
      "\u001b[1;31mValueError\u001b[0m                                Traceback (most recent call last)",
      "\u001b[1;32m<ipython-input-137-083a03e51984>\u001b[0m in \u001b[0;36m<module>\u001b[1;34m\u001b[0m\n\u001b[0;32m     15\u001b[0m \u001b[0mprint\u001b[0m\u001b[1;33m(\u001b[0m\u001b[0ma\u001b[0m\u001b[1;33m[\u001b[0m\u001b[1;33m-\u001b[0m\u001b[0mint\u001b[0m\u001b[1;33m(\u001b[0m\u001b[0mb\u001b[0m\u001b[1;33m)\u001b[0m\u001b[1;33m:\u001b[0m\u001b[1;33m]\u001b[0m\u001b[1;33m)\u001b[0m\u001b[1;33m\u001b[0m\u001b[1;33m\u001b[0m\u001b[0m\n\u001b[0;32m     16\u001b[0m \u001b[1;33m\u001b[0m\u001b[0m\n\u001b[1;32m---> 17\u001b[1;33m \u001b[0mprint\u001b[0m\u001b[1;33m(\u001b[0m\u001b[0mint\u001b[0m\u001b[1;33m(\u001b[0m\u001b[0ma\u001b[0m\u001b[1;33m[\u001b[0m\u001b[1;33m-\u001b[0m\u001b[0mint\u001b[0m\u001b[1;33m(\u001b[0m\u001b[0mb\u001b[0m\u001b[1;33m)\u001b[0m\u001b[1;33m:\u001b[0m\u001b[1;33m]\u001b[0m\u001b[1;33m)\u001b[0m \u001b[1;33m-\u001b[0m \u001b[0mint\u001b[0m\u001b[1;33m(\u001b[0m\u001b[0ma\u001b[0m\u001b[1;33m[\u001b[0m\u001b[1;33m:\u001b[0m\u001b[0mint\u001b[0m\u001b[1;33m(\u001b[0m\u001b[0mb\u001b[0m\u001b[1;33m)\u001b[0m\u001b[1;33m]\u001b[0m\u001b[1;33m)\u001b[0m\u001b[1;33m)\u001b[0m\u001b[1;33m\u001b[0m\u001b[1;33m\u001b[0m\u001b[0m\n\u001b[0m\u001b[0;32m     18\u001b[0m \u001b[1;33m\u001b[0m\u001b[0m\n\u001b[0;32m     19\u001b[0m \u001b[1;33m\u001b[0m\u001b[0m\n",
      "\u001b[1;31mValueError\u001b[0m: invalid literal for int() with base 10: '4,5,6'"
     ]
    }
   ],
   "source": [
    "# 홀수 개의 숫자로 구성된 숫자 문자열을 입력으로 사용\n",
    "\n",
    "# 7652310\n",
    "\n",
    "a= input(\"홀수개의 숫자를 입력하세요\")\n",
    "\n",
    "print(a)\n",
    "\n",
    "b=len(a)/2\n",
    "print(len(a))\n",
    "print(b)\n",
    "\n",
    "print(a[:int(b)])\n",
    "\n",
    "print(a[-int(b):])\n",
    "\n",
    "print(int(a[-int(b):]) - int(a[:int(b)]))\n",
    "\n",
    "\n",
    "c=len(a[:int(b)])/2\n",
    "\n",
    "print(c)\n",
    "\n",
    "\n",
    "\n",
    "\n",
    "\n",
    "\n"
   ]
  },
  {
   "cell_type": "code",
   "execution_count": 127,
   "metadata": {},
   "outputs": [
    {
     "name": "stdout",
     "output_type": "stream",
     "text": [
      "홀수개 숫자를 입력하세요123456789\n",
      "123456789\n",
      "4.5\n",
      "1234\n",
      "6789\n",
      "5555\n",
      "['4', '3', '2', '1']\n",
      "['9', '8', '7', '6']\n",
      "4321\n",
      "9876\n",
      "5555\n"
     ]
    }
   ],
   "source": [
    "my_list = input(\"홀수개 숫자를 입력하세요\")\n",
    "\n",
    "print(my_list)\n",
    "\n",
    "\n",
    "print(len(my_list)/2)\n",
    "a=len(my_list)//2\n",
    "\n",
    "\n",
    "b=(my_list[:a])\n",
    "c=(my_list[-a:])\n",
    "\n",
    "\n",
    "print(b)\n",
    "print(c)\n",
    "\n",
    "print(int(c)-int(b))\n",
    "\n",
    "list_b=list(b)\n",
    "list_b.reverse()\n",
    "\n",
    "\n",
    "list_c=list(c)\n",
    "list_c.reverse()\n",
    "\n",
    "print(list_b)\n",
    "print(list_c)\n",
    "\n",
    "reverb=\"\".join(list_b)\n",
    "reverc=\"\".join(list_c)\n",
    "\n",
    "\n",
    "print(reverb)\n",
    "print(reverc)\n",
    "\n",
    "intb=int(reverb)\n",
    "intc=int(reverc)\n",
    "\n",
    "if intb>intc:\n",
    "    \n",
    "    result = intb-intc\n",
    "else:\n",
    "    result = intc-intb\n",
    "\n",
    "    print(result)\n",
    "\n",
    "\n",
    "\n",
    "###### 조인\n"
   ]
  },
  {
   "cell_type": "code",
   "execution_count": 109,
   "metadata": {},
   "outputs": [
    {
     "name": "stdout",
     "output_type": "stream",
     "text": [
      "2019-02-13\n"
     ]
    }
   ],
   "source": [
    "from datetime import date, datetime\n",
    "\n",
    "today = date.today()\n",
    "\n",
    "print(today)"
   ]
  },
  {
   "cell_type": "code",
   "execution_count": 110,
   "metadata": {},
   "outputs": [
    {
     "name": "stdout",
     "output_type": "stream",
     "text": [
      "2019-02-10 16:33:34.827648\n"
     ]
    }
   ],
   "source": [
    "#날짜 연산\n",
    "\n",
    "from datetime import date, datetime, timedelta\n",
    "\n",
    "today = datetime.today()\n",
    "\n",
    "days = timedelta(days=-3)\n",
    "\n",
    "print(today+days)"
   ]
  },
  {
   "cell_type": "code",
   "execution_count": 99,
   "metadata": {},
   "outputs": [
    {
     "ename": "SyntaxError",
     "evalue": "unexpected EOF while parsing (<ipython-input-99-ece99a246ddd>, line 7)",
     "output_type": "error",
     "traceback": [
      "\u001b[1;36m  File \u001b[1;32m\"<ipython-input-99-ece99a246ddd>\"\u001b[1;36m, line \u001b[1;32m7\u001b[0m\n\u001b[1;33m    print(\"현재시간은:{}\".format(today.strftime(\"%y %m %d\"))\u001b[0m\n\u001b[1;37m                                                       ^\u001b[0m\n\u001b[1;31mSyntaxError\u001b[0m\u001b[1;31m:\u001b[0m unexpected EOF while parsing\n"
     ]
    }
   ],
   "source": [
    "from datetime import datetime\n",
    "\n",
    "today = datetime.today()\n",
    "\n",
    "print(\"현재시간은:{}\".format(today))\n",
    "\n",
    "print(\"현재시간은:{}\".format(today.strftime(\"%y %m %d\"))"
   ]
  },
  {
   "cell_type": "code",
   "execution_count": 103,
   "metadata": {},
   "outputs": [
    {
     "name": "stdout",
     "output_type": "stream",
     "text": [
      "이것은,이것은\n",
      "이것은 이것은\n"
     ]
    }
   ],
   "source": [
    "print(\"이것은\", end= \",\" )\n",
    "print(\"이것은\")\n",
    "print(\"이것은\", end = \" \") # print 는 기본적으로 한줄띄어서 나옴 \n",
    "print(\"이것은\")"
   ]
  },
  {
   "cell_type": "code",
   "execution_count": 108,
   "metadata": {},
   "outputs": [
    {
     "name": "stdout",
     "output_type": "stream",
     "text": [
      "<class 'datetime.date'>\n",
      "2019-02-13\n",
      "연도 : 2019, 월 : 2, 일 : 13\n",
      "2019-02-13 16:31:45.787412\n"
     ]
    }
   ],
   "source": [
    "from datetime import date, datetime\n",
    "\n",
    "today = date.today()\n",
    "print(type(today))\n",
    "print(today)\n",
    "\n",
    "print(\"연도 : {}, 월 : {}, 일 : {}\".format\\\n",
    "      (today.year, today.month,today.day))\n",
    "# 오늘 날짜와 시간을 구해보아요!\n",
    "today = datetime.today()\n",
    "print(today)"
   ]
  },
  {
   "cell_type": "code",
   "execution_count": 116,
   "metadata": {},
   "outputs": [
    {
     "name": "stdout",
     "output_type": "stream",
     "text": [
      "29\n",
      "리스트의 총 합은 : 29\n"
     ]
    }
   ],
   "source": [
    "my_list = [5,8,2,4,10]\n",
    "\n",
    "sum=0\n",
    "\n",
    "for tmp in my_list:\n",
    "    \n",
    "    sum+=tmp\n",
    "    \n",
    "print(sum)\n",
    "print(\"리스트의 총 합은 : {}\".format(sum))"
   ]
  },
  {
   "cell_type": "code",
   "execution_count": 117,
   "metadata": {},
   "outputs": [
    {
     "name": "stdout",
     "output_type": "stream",
     "text": [
      "리스트의 총 합은 : 29\n"
     ]
    }
   ],
   "source": [
    "my_list = [5,8,2,4,10]\n",
    "\n",
    "sum=0\n",
    "\n",
    "for idx in range(len(my_list)):\n",
    "    sum +=my_list[idx]\n",
    "print(\"리스트의 총 합은 : {}\".format(sum))\n",
    "\n",
    "\n"
   ]
  },
  {
   "cell_type": "code",
   "execution_count": 120,
   "metadata": {},
   "outputs": [
    {
     "name": "stdout",
     "output_type": "stream",
     "text": [
      "{2, 4, 6, 8, 10, 12, 14, 16, 18}\n",
      "{8, 16, 4, 12}\n"
     ]
    }
   ],
   "source": [
    "my_list = [1,2,3,4,5,6,7,8,9]\n",
    "\n",
    "score1 = {tmp*2 for tmp in my_list}\n",
    "\n",
    "print(score1)\n",
    "\n",
    "\n",
    "score2 = {tmp*2 for tmp in my_list if tmp %2 == 0}\n",
    "\n",
    "print(score2)\n",
    "\n",
    "\n",
    "\n"
   ]
  },
  {
   "cell_type": "code",
   "execution_count": null,
   "metadata": {},
   "outputs": [],
   "source": [
    "come to my wor\n",
    "\n",
    "ㅇㅇㅇㅇㅇㅇㅇㅇㅇㅇㅇㅇㅇㅇㅇㅇㅇㅇㅇㅇ\n",
    "\n",
    "왜이래 도대체 왜\n",
    "\n",
    "\n",
    "뭐지?\n",
    "\n",
    "\n",
    "\n",
    "\n",
    "\n",
    "\n"
   ]
  },
  {
   "cell_type": "code",
   "execution_count": null,
   "metadata": {},
   "outputs": [],
   "source": [
    "ㅇ\n",
    "\n",
    "왜이러는겨 도대체 ㅜ안무안무안무아ㅣㄴ무\n",
    "\n",
    "\n",
    "\n",
    "\n",
    "짜증\n",
    "\n",
    "아누아누아ㅜ\n",
    "\n",
    "\n",
    "\n",
    "\n",
    "\n",
    "\n",
    "\n",
    "\n"
   ]
  },
  {
   "cell_type": "code",
   "execution_count": null,
   "metadata": {},
   "outputs": [],
   "source": [
    "ㅇㅇㅇㅇㅇㅇㄴㅇㄴㅇㄴㅋㅇㅋㅇ\n",
    "\n",
    "\n",
    "ㄴㅇ\n",
    "ㄴ\n",
    "ㅇ\n",
    "ㅇ\n",
    "ㅇ\n",
    "ㅈㅇ\n",
    "ㅈ\n",
    "ㅇㅈ\n",
    "ㅇ\n",
    "ㅈㅇ\n",
    "ㅇ\n",
    "ㅇ\n",
    "ㅇ\n",
    "ㄷ\n",
    "ㄷ\n",
    "ㄹ\n",
    "ㅎ\n",
    "ㅗ\n",
    "ㅗㅗㅗㅗ\n",
    "ㅗ\n"
   ]
  },
  {
   "cell_type": "code",
   "execution_count": null,
   "metadata": {},
   "outputs": [],
   "source": [
    "\n"
   ]
  },
  {
   "cell_type": "code",
   "execution_count": 1,
   "metadata": {},
   "outputs": [
    {
     "name": "stdout",
     "output_type": "stream",
     "text": [
      "숫자를 입력하세요123456\n",
      "123456\n"
     ]
    }
   ],
   "source": [
    "a = input(\"숫자를 입력하세요\")\n"
   ]
  },
  {
   "cell_type": "code",
   "execution_count": 30,
   "metadata": {
    "scrolled": true
   },
   "outputs": [
    {
     "name": "stdout",
     "output_type": "stream",
     "text": [
      "숫자를 입력하세요123456\n",
      "123456\n"
     ]
    },
    {
     "ename": "ValueError",
     "evalue": "invalid literal for int() with base 10: ''",
     "output_type": "error",
     "traceback": [
      "\u001b[1;31m---------------------------------------------------------------------------\u001b[0m",
      "\u001b[1;31mValueError\u001b[0m                                Traceback (most recent call last)",
      "\u001b[1;32m<ipython-input-30-1834ef424edc>\u001b[0m in \u001b[0;36m<module>\u001b[1;34m\u001b[0m\n\u001b[0;32m      5\u001b[0m \u001b[0mb\u001b[0m \u001b[1;33m=\u001b[0m \u001b[0ma\u001b[0m\u001b[1;33m[\u001b[0m\u001b[1;33m-\u001b[0m\u001b[1;36m2\u001b[0m\u001b[1;33m:\u001b[0m\u001b[1;36m0\u001b[0m\u001b[1;33m]\u001b[0m\u001b[1;33m\u001b[0m\u001b[1;33m\u001b[0m\u001b[0m\n\u001b[0;32m      6\u001b[0m \u001b[0mcount\u001b[0m\u001b[1;33m=\u001b[0m\u001b[1;36m0\u001b[0m\u001b[1;33m\u001b[0m\u001b[1;33m\u001b[0m\u001b[0m\n\u001b[1;32m----> 7\u001b[1;33m \u001b[0mb\u001b[0m\u001b[1;33m=\u001b[0m\u001b[0mint\u001b[0m\u001b[1;33m(\u001b[0m\u001b[0mb\u001b[0m\u001b[1;33m)\u001b[0m\u001b[1;33m\u001b[0m\u001b[1;33m\u001b[0m\u001b[0m\n\u001b[0m\u001b[0;32m      8\u001b[0m \u001b[1;33m\u001b[0m\u001b[0m\n\u001b[0;32m      9\u001b[0m \u001b[0mprint\u001b[0m\u001b[1;33m(\u001b[0m\u001b[0mb\u001b[0m\u001b[1;33m)\u001b[0m\u001b[1;33m\u001b[0m\u001b[1;33m\u001b[0m\u001b[0m\n",
      "\u001b[1;31mValueError\u001b[0m: invalid literal for int() with base 10: ''"
     ]
    }
   ],
   "source": [
    "a = input(\"숫자를 입력하세요\")\n",
    "\n",
    "print(a)\n",
    "\n",
    "b = a[-2:]\n",
    "count=0\n",
    "b=int(b)\n",
    "\n",
    "print(b)\n",
    "\n",
    "if (b%2==0):\n",
    "    count=count+1\n",
    "\n",
    "    \n",
    "    \n",
    "    \n",
    "\n",
    "\n"
   ]
  },
  {
   "cell_type": "code",
   "execution_count": 31,
   "metadata": {},
   "outputs": [
    {
     "name": "stdout",
     "output_type": "stream",
     "text": [
      "입력하세요123456456sadsadwqd\n",
      "123456456sadsadwqd\n"
     ]
    }
   ],
   "source": [
    "a = input(\"입력하세요\")\n",
    "\n",
    "print(a)"
   ]
  },
  {
   "cell_type": "code",
   "execution_count": null,
   "metadata": {},
   "outputs": [],
   "source": []
  },
  {
   "cell_type": "code",
   "execution_count": null,
   "metadata": {},
   "outputs": [],
   "source": []
  },
  {
   "cell_type": "code",
   "execution_count": null,
   "metadata": {},
   "outputs": [],
   "source": []
  }
 ],
 "metadata": {
  "kernelspec": {
   "display_name": "Python 3",
   "language": "python",
   "name": "python3"
  },
  "language_info": {
   "codemirror_mode": {
    "name": "ipython",
    "version": 3
   },
   "file_extension": ".py",
   "mimetype": "text/x-python",
   "name": "python",
   "nbconvert_exporter": "python",
   "pygments_lexer": "ipython3",
   "version": "3.7.1"
  }
 },
 "nbformat": 4,
 "nbformat_minor": 2
}
