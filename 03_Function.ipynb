{
 "cells": [
  {
   "cell_type": "code",
   "execution_count": 2,
   "metadata": {},
   "outputs": [
    {
     "name": "stdout",
     "output_type": "stream",
     "text": [
      "200\n"
     ]
    }
   ],
   "source": [
    "#파이썬은 독립적인 함수를 사용자가 정의해서 사용할수있음\n",
    "#함수의 정의\n",
    "#일반적인 형태\n",
    "def my_sum(a,b):                \n",
    "    result = a * b\n",
    "    return result\n",
    "\n",
    "print(my_sum(10,20))\n"
   ]
  },
  {
   "cell_type": "code",
   "execution_count": null,
   "metadata": {},
   "outputs": [],
   "source": [
    "#함수를 선언하고 아무런 일도 하지않는 함수를 선언하는 경우 자바에선 {}으로 끝을내지만\n",
    "\n",
    "def do_nothing():\n",
    "    pass          # 그냥 넘어가지말고 pass로 아무것도 안함을 알려줌\n",
    "\n",
    "\n"
   ]
  },
  {
   "cell_type": "code",
   "execution_count": null,
   "metadata": {},
   "outputs": [],
   "source": [
    "#파이썬 함수는 내장함수와 사용자 정의 함수\n"
   ]
  },
  {
   "cell_type": "code",
   "execution_count": 16,
   "metadata": {},
   "outputs": [
    {
     "name": "stdout",
     "output_type": "stream",
     "text": [
      "100\n",
      "True\n",
      "13\n",
      "80861928\n"
     ]
    },
    {
     "data": {
      "text/plain": [
       "54"
      ]
     },
     "execution_count": 16,
     "metadata": {},
     "output_type": "execute_result"
    }
   ],
   "source": [
    "#파이썬의 내장함수\n",
    "# abs(x):x의 절대값을 구하는 함수\n",
    "\n",
    "print(abs(-100))\n",
    "#all(x):반복 가능한 대상에 대해 모은것이 true인 true\n",
    "print(all([1,2,3,4,5]))\n",
    "\n",
    "\n",
    "# eval -> 문자열 입력을 수식으로 직접 계산\n",
    "\n",
    "print(eval(\"1+3*4\"))\n",
    "\n",
    "\n",
    "\n",
    "#dir 사용가능한 변수와 함수를 list로 변환시키는 함수 리스트형태로 알려주는것\n",
    "\n",
    "#print(dir(\"hello\"))\n",
    "\n",
    "\n",
    "#id =>같니 다르니 확인용도\n",
    "\n",
    "print(id(\"Hello\"))\n",
    "\n",
    "#divmod(a,b) a를b로 나누고 목과 나머지를 보여줌\n",
    "divmod(10,3)\n",
    "\n",
    "#join은 문자열이 가지는 함수이지만 자주사용해서 설명에 추가함\n",
    "\n",
    "my_list = [\"hello\",\"world\",\"!!\"]\n",
    "\"-\".join(my_list)\n",
    "\n",
    "\n",
    "#max(),min(),pow() = 최대값 최소값 제곱값\n",
    "\n",
    "max([1,2,3,54,6,7,])\n",
    "\n",
    "\n",
    "my_list=[]\n",
    "result=my_list.sort() #원본이 변함\n",
    "\n",
    "\n",
    "result=sorted(my_list) #원본이 변하지않음\n",
    "\n",
    "\n"
   ]
  },
  {
   "cell_type": "code",
   "execution_count": 18,
   "metadata": {},
   "outputs": [
    {
     "data": {
      "text/plain": [
       "300"
      ]
     },
     "execution_count": 18,
     "metadata": {},
     "output_type": "execute_result"
    }
   ],
   "source": [
    "#사용자 정의함수 (user-define function) 5가지정도 기억하면 됨\n",
    "\n",
    "#가장 일반적인 형태\n",
    "\n",
    "def my_calc(a,b):\n",
    "    result = a+b\n",
    "    return result\n",
    "\n",
    "\n",
    "my_calc(100,200)"
   ]
  },
  {
   "cell_type": "code",
   "execution_count": 21,
   "metadata": {},
   "outputs": [
    {
     "data": {
      "text/plain": [
       "25"
      ]
     },
     "execution_count": 21,
     "metadata": {},
     "output_type": "execute_result"
    }
   ],
   "source": [
    "my_calc(5,20)"
   ]
  },
  {
   "cell_type": "code",
   "execution_count": 23,
   "metadata": {},
   "outputs": [
    {
     "name": "stdout",
     "output_type": "stream",
     "text": [
      "15\n"
     ]
    }
   ],
   "source": [
    "#2 인자의 개수에 영향을 받지 않도록 지정\n",
    "\n",
    "def my_calb(*args):   #인자를 받아온걸 튜플로 처리하겠다 args=튜플\n",
    "    result = 0\n",
    "    for tmp in args:\n",
    "        result += tmp\n",
    "    return result\n",
    "    \n",
    "    \n",
    "print(my_calb(1,2,3,4,5))"
   ]
  },
  {
   "cell_type": "code",
   "execution_count": 25,
   "metadata": {},
   "outputs": [
    {
     "name": "stdout",
     "output_type": "stream",
     "text": [
      "(30, 200)\n",
      "15 50\n"
     ]
    }
   ],
   "source": [
    "#3 파이썬은 두개이상의 값을 return 할수 있다? (정확히는 틀린이야기지만 이렇게 표현함)\n",
    "\n",
    "def my_cala(a,b):\n",
    "    \n",
    "    result1=a+b\n",
    "    result2=a*b\n",
    "    return result1,result2  # 실제로는 튜플 만들어서 리턴 하다보니 (result1,result2) 이런 것\n",
    "\n",
    "print(my_cala(10,20))\n",
    "\n",
    "\n",
    "\n",
    "def my_cala(a,b):\n",
    "    \n",
    "    result1=a+b\n",
    "    result2=a*b\n",
    "    return result1,result2  # 실제로는 튜플 만들어서 리턴 하다보니 (result1,result2) 이런 것\n",
    "\n",
    "a , b = my_cala(5,10)\n",
    "\n",
    "print (a,b)\n",
    "\n",
    "\n"
   ]
  },
  {
   "cell_type": "code",
   "execution_count": 28,
   "metadata": {},
   "outputs": [
    {
     "name": "stdout",
     "output_type": "stream",
     "text": [
      "20\n",
      "10\n"
     ]
    }
   ],
   "source": [
    "# 4 default 값을 이용할수 있다\n",
    "\n",
    "def my_cald(a,b,c=False):     #default 벨류를 쓸 댄 맨마지막 서부터 씀\n",
    "    if c:\n",
    "        return a\n",
    "    else:\n",
    "        return b\n",
    "    \n",
    "print(my_cald(10,20))\n",
    "\n",
    "print(my_cald(10,20,True))\n",
    "    \n",
    "    \n",
    "    \n",
    "    "
   ]
  },
  {
   "cell_type": "code",
   "execution_count": 29,
   "metadata": {},
   "outputs": [
    {
     "ename": "SyntaxError",
     "evalue": "invalid syntax (<ipython-input-29-9c87a7f40100>, line 5)",
     "output_type": "error",
     "traceback": [
      "\u001b[1;36m  File \u001b[1;32m\"<ipython-input-29-9c87a7f40100>\"\u001b[1;36m, line \u001b[1;32m5\u001b[0m\n\u001b[1;33m    def my_cale(a,b)\u001b[0m\n\u001b[1;37m                    ^\u001b[0m\n\u001b[1;31mSyntaxError\u001b[0m\u001b[1;31m:\u001b[0m invalid syntax\n"
     ]
    }
   ],
   "source": [
    "#5 외부변수를 사용할수 있다\n",
    "\n",
    "result =0    # 여기 result 와 밑에 result 는 달라서 실행하면 초기 result값을 지정안해서 오류나옴 \n",
    "            # 해결방법 global 근데 이러면 코드꼬임\n",
    "\n",
    "def my_cale(a,b)\n",
    "    result+=(a+b)\n",
    "    return result\n",
    "\n",
    "my_cale(10,20)\n",
    "\n",
    "\n",
    "\n",
    "\n",
    "\n",
    "\n",
    "\n",
    "\n",
    "\n",
    "\n",
    "\n",
    "\n",
    "\n",
    "\n",
    "또이러네  ㅇㅇㅇㅇㅇㅇㅇㅇㅇㅇㅇㅇㅇㅇㅇㅇㅇㅇㅇㅇㅇㅇㅇㅇㅇㅇㅇ\n",
    "\n",
    "\n",
    "ㅇㅇㅇㅇㅇㅇㅇㅇㅇㅇㅇㅇㅇㅇㅇㅇㅇ\n",
    "\n",
    "ㅇㅇㅇㅇㅇㅇㅇㅇㅇㅇㅇㅇㅇㅇㅇㅇㅇㅇㅇㅇㅇㅇ\n",
    "ㅇ\n",
    "ㅇ\n",
    "ㅇ\n",
    "ㅇ\n",
    "ㅇㅇㅇㅇㅇㅇㅇㅇㅇㅇㅇㅇㅇㅇㅇㅇㅇㅇㅇㅇㅇㅇㅇㅇㅇㅇㅇㅇㅇㅇㅇㅇㅇㅇㅇㅇㅇㅇㅇㅇ\n",
    "\n",
    "\n",
    "\n",
    "ㅇ\n",
    "ㅇㅇㅇㅇㅇㅇㅇㅇㅇㅇㅇㅇㅇㅇㅇㅇㅇㅇㅇㅇㅇ\n",
    "ㅇ\n",
    "ㅇ\n",
    "ㅇ\n",
    "ㅇ\n",
    "\n",
    "ㅇ\n",
    "ㅇㅇㅇㅇㅇㅇㅇㅇㅇㅇㅇㅇㅇㅇㅇㅇㅇㅇㅇㅇㅇㅇㅇㅇㅇㅇㅇㅇㅇㅇㅇㅇ\n",
    "\n",
    "\n",
    "\n",
    "ㅇㅇㅇㅇㅇㅇㅇㅇㅇㅇㅇㅇㅇㅇㅇㅇㅇㅇㅇㅇㅇㅇ"
   ]
  },
  {
   "cell_type": "code",
   "execution_count": null,
   "metadata": {},
   "outputs": [],
   "source": [
    "ㅇㅇㅇㅇㅇㅇㅇㅇㅇㅇㅇㅇㅇㅇㅇㅇㅇㅇㅇㅇㅇㅇㅇㅇㅇㅇㅇㅇ\n",
    "\n",
    "\n",
    "\n",
    "ㅇ\n",
    "ㅇ\n",
    "ㅇ\n",
    "ㅇ\n",
    "ㅇ\n",
    "ㅇ\n",
    "ㅇ\n",
    "ㅇ\n",
    "ㅇ\n",
    "ㅇ\n",
    "ㅇㅇㅇㅇㅇㅇㅇㅇㅇㅇㅇㅇㅇ"
   ]
  },
  {
   "cell_type": "code",
   "execution_count": null,
   "metadata": {},
   "outputs": [],
   "source": []
  },
  {
   "cell_type": "code",
   "execution_count": null,
   "metadata": {},
   "outputs": [],
   "source": []
  },
  {
   "cell_type": "code",
   "execution_count": null,
   "metadata": {},
   "outputs": [],
   "source": []
  },
  {
   "cell_type": "code",
   "execution_count": null,
   "metadata": {},
   "outputs": [],
   "source": []
  },
  {
   "cell_type": "code",
   "execution_count": null,
   "metadata": {},
   "outputs": [],
   "source": []
  },
  {
   "cell_type": "code",
   "execution_count": null,
   "metadata": {},
   "outputs": [],
   "source": []
  },
  {
   "cell_type": "code",
   "execution_count": null,
   "metadata": {},
   "outputs": [],
   "source": []
  }
 ],
 "metadata": {
  "kernelspec": {
   "display_name": "data_env",
   "language": "python",
   "name": "data_env"
  },
  "language_info": {
   "codemirror_mode": {
    "name": "ipython",
    "version": 3
   },
   "file_extension": ".py",
   "mimetype": "text/x-python",
   "name": "python",
   "nbconvert_exporter": "python",
   "pygments_lexer": "ipython3",
   "version": "3.7.1"
  }
 },
 "nbformat": 4,
 "nbformat_minor": 2
}
