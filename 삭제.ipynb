{
 "cells": [
  {
   "cell_type": "code",
   "execution_count": null,
   "metadata": {},
   "outputs": [],
   "source": [
    "#문제 \n",
    "\n",
    "#공식부터 \n",
    "#데이터프레임\n",
    "\n",
    "import numpy as np\n",
    "import pandas as pd\n",
    "import math \n",
    "\n",
    "data= { \"a\":[\"0.1\",\"0.05\",\"0.025\",\"0.01\",\"0.005\"],\n",
    "        \"z\":[1.28,1.64,1.96,2.33,2.58]\n",
    "      }\n",
    "print(df[\"a\"])\n",
    "cols=[\"a\",\"z\"]\n",
    "df = pd.DataFrame(data, columns=cols, index=range(5))\n",
    "display(df)\n",
    "b=input(\"유의수준 입력\")\n",
    "\n",
    "display(df.loc[df[\"a\"]==b ,\"z\"])\n",
    "\n",
    "\n",
    "#c = df.loc[df[\"a\"] ==b,\"z\"]\n",
    "\n",
    "stand=input(\"표준편차 입력\")\n",
    "number=input(\"표본\")\n",
    "mean=input(\"초기값\")\n",
    "x= math.sqrt(number)\n",
    "\n",
    "#z=(cv-mean)/stand/number\n",
    "\n",
    "cv=c*(stand/number)+mean"
   ]
  },
  {
   "cell_type": "code",
   "execution_count": null,
   "metadata": {},
   "outputs": [],
   "source": []
  },
  {
   "cell_type": "code",
   "execution_count": null,
   "metadata": {},
   "outputs": [],
   "source": []
  },
  {
   "cell_type": "code",
   "execution_count": null,
   "metadata": {},
   "outputs": [],
   "source": []
  },
  {
   "cell_type": "code",
   "execution_count": null,
   "metadata": {},
   "outputs": [],
   "source": []
  },
  {
   "cell_type": "code",
   "execution_count": null,
   "metadata": {},
   "outputs": [],
   "source": []
  }
 ],
 "metadata": {
  "kernelspec": {
   "display_name": "data_env",
   "language": "python",
   "name": "data_env"
  },
  "language_info": {
   "codemirror_mode": {
    "name": "ipython",
    "version": 3
   },
   "file_extension": ".py",
   "mimetype": "text/x-python",
   "name": "python",
   "nbconvert_exporter": "python",
   "pygments_lexer": "ipython3",
   "version": "3.7.1"
  }
 },
 "nbformat": 4,
 "nbformat_minor": 2
}
