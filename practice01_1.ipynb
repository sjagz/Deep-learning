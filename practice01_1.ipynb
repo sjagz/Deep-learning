{
 "cells": [
  {
   "cell_type": "code",
   "execution_count": 1,
   "metadata": {},
   "outputs": [
    {
     "name": "stdout",
     "output_type": "stream",
     "text": [
      "올해 평균 월급은 지난해보다 높다.\n"
     ]
    }
   ],
   "source": [
    "import numpy as np\n",
    "import pandas as pd\n",
    "import math \n",
    "\n",
    "c=float(1.645)\n",
    "stand=float(12)\n",
    "number=float(100)\n",
    "mean=float(150)\n",
    "\n",
    "x= math.sqrt(number)\n",
    "\n",
    "#z=(cv-mean)/(stand/x)\n",
    "\n",
    "cv=(c*(stand/x))+mean\n",
    "\n",
    "\n",
    "if cv>150:\n",
    "    print(\"올해 평균 월급은 지난해보다 높다.\")\n",
    "else:\n",
    "    print(\"낮다\")"
   ]
  },
  {
   "cell_type": "code",
   "execution_count": 2,
   "metadata": {},
   "outputs": [
    {
     "name": "stdout",
     "output_type": "stream",
     "text": [
      "카이제곱값 : 13.267118719160774\n",
      "pvalue:0.01004173744196974\n",
      "음주량과 흡연량은 관련성이 있다.\n"
     ]
    }
   ],
   "source": [
    "import numpy as np\n",
    "import scipy as sp\n",
    "from scipy import stats\n",
    "\n",
    "\n",
    "#디그레션?\n",
    "\n",
    "arr=np.array([[23,21,63],\n",
    "             [31,48,159],\n",
    "             [13,22,119]]\n",
    "              )\n",
    "\n",
    "chi2,pvalue, free, _table = sp.stats.chi2_contingency(arr)\n",
    "print(\"카이제곱값 : {}\".format(chi2))\n",
    "print(\"pvalue:{}\".format(pvalue))\n",
    "\n",
    "if pvalue<0.05:\n",
    "    print(\"음주량과 흡연량은 관련성이 있다.\")\n",
    "else:\n",
    "    print(\"음주량과 흡연량은 관련성이 없다\")\n",
    "\n"
   ]
  },
  {
   "cell_type": "code",
   "execution_count": null,
   "metadata": {},
   "outputs": [],
   "source": []
  }
 ],
 "metadata": {
  "kernelspec": {
   "display_name": "[GPU_ENV]",
   "language": "python",
   "name": "gpu_env"
  },
  "language_info": {
   "codemirror_mode": {
    "name": "ipython",
    "version": 3
   },
   "file_extension": ".py",
   "mimetype": "text/x-python",
   "name": "python",
   "nbconvert_exporter": "python",
   "pygments_lexer": "ipython3",
   "version": "3.6.8"
  }
 },
 "nbformat": 4,
 "nbformat_minor": 2
}
