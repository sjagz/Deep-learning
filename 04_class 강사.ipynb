{
 "cells": [
  {
   "cell_type": "code",
   "execution_count": 2,
   "metadata": {},
   "outputs": [],
   "source": [
    "# 과거부터 프로그램이 진행이 되었어요!!\n",
    "# 기계어 -> 어셈블리언어 -> 포트란, 코볼 ->\n",
    "# C언어 (절차적 언어의 대표격인 프로그래밍 언어)\n",
    "# 절차적 언어 ( 프로그램을 만드는 방식 )\n",
    "# 기능을 기준으로 큰 문제를 작은 문제로 세분화\n",
    "# 예) 은행프로그램을 작성해요!\n",
    "# - 외환업무, -대출업무, -예금업무, -보험업무, ...\n",
    "# 각각의 기능을 다시 세분화\n",
    "# -예금업무 => 입금업무, 출금업무, 무통장입금업무,...\n",
    "# 더이상 세부화 시킬 수 없을때까지 기능을 세분화시키고\n",
    "# 이렇게 세분화된 기능을 코드로 구현 -> 구현된 코드를\n",
    "# 하나로 합쳐요!!\n",
    "# 이런 프로그램 방식의 장점 : 프로그래밍의 설계가 쉬워요\n",
    "# 빨리 쉽게 만들수 있어요 -> 비용절감의 장점\n",
    "# 단점 : 프로그램을 유지보수하는게 어려워요!\n",
    "# 1990년대에 프로그래밍의 패러다임이 바뀌게 되요\n",
    "# 객체지향방식이 대두!! ( 유지보수에 강점 )\n",
    "# 객체지향 프로그램 방식\n",
    "# 현실세계의 해결해야 하는 문제를 프로그램적으로\n",
    "# modeling하는 프로그래밍 기법이 객체지향방식\n",
    "# 객체지향 방식은 프로그램을 기능으로 세분화하지 않아요\n",
    "# 내가 해결해야하는 문제를 구성하고 있는 구성요소를\n",
    "# 파악하고(개체) 이 구성요소들간의 상호관계(정보전달관계)\n",
    "# 를 파악 \n",
    "# 프로그램을 설계가 어려워요! 하지만 일단 잘 만들면\n",
    "# 프로그램의 유지보수에 강점이 있어요!\n",
    "# 현실세계의 구성요소를 파악하고 프로그램으로 \n",
    "# 옮기는 작업을 해야 해요!\n",
    "# 현실세계의 개체가 가지는 굉장히 많은 기능과 특성 중\n",
    "# 프로그램에서 필요한 것들만 추려요 ( abstraction )\n",
    "# 개체를 프로그램으로 표현하기 위한 객체 모델링의 수단\n",
    "# 이 class\n",
    "# class의 또 다른 의미는 새로운 data type을 만드는것예요\n",
    "# ADT ( abstract data type , 추상 데이터 타입 )\n",
    "# class가 가지는 기능 중 하나는 encapsulation(캡슐화)\n",
    "# 관련이 있는 특성(field)과 기능(method)을 class라는 \n",
    "# 하나의 단위로 묶는 역할"
   ]
  },
  {
   "cell_type": "code",
   "execution_count": 6,
   "metadata": {},
   "outputs": [
    {
     "name": "stdout",
     "output_type": "stream",
     "text": [
      "3.1415926535\n"
     ]
    }
   ],
   "source": [
    "# python의 module\n",
    "# python의 변수, 함수, 클래스를 모아놓은 파일.\n",
    "# 다른 python program에서 불러다 사용할 수 있는 파일\n",
    "# import : module을 사용할 수 있도록 만들어 주는 keyword\n",
    "# import 모듈이름(파일명)\n",
    "# import 모듈이름 as 별명\n",
    "# from 모듈이름 import 함수,변수,클래스\n",
    "# import module1 as m1\n",
    "from module1 import PI\n",
    "print(PI)"
   ]
  },
  {
   "cell_type": "code",
   "execution_count": 9,
   "metadata": {},
   "outputs": [
    {
     "data": {
      "text/plain": [
       "['C:\\\\Users\\\\student\\\\Anaconda3\\\\envs\\\\data_env\\\\python36.zip',\n",
       " 'C:\\\\Users\\\\student\\\\Anaconda3\\\\envs\\\\data_env\\\\DLLs',\n",
       " 'C:\\\\Users\\\\student\\\\Anaconda3\\\\envs\\\\data_env\\\\lib',\n",
       " 'C:\\\\Users\\\\student\\\\Anaconda3\\\\envs\\\\data_env',\n",
       " '',\n",
       " 'C:\\\\Users\\\\student\\\\Anaconda3\\\\envs\\\\data_env\\\\lib\\\\site-packages',\n",
       " 'C:\\\\Users\\\\student\\\\Anaconda3\\\\envs\\\\data_env\\\\lib\\\\site-packages\\\\IPython\\\\extensions',\n",
       " 'C:\\\\Users\\\\student\\\\.ipython',\n",
       " 'c:/python_lib',\n",
       " 'c:/python_lib']"
      ]
     },
     "execution_count": 9,
     "metadata": {},
     "output_type": "execute_result"
    }
   ],
   "source": [
    "# module을 불러올 수 있는 폴더들이 있어요!\n",
    "import sys\n",
    "sys.path  # list\n",
    "sys.path.append(\"c:/python_lib\")\n",
    "sys.path  # list\n",
    "# 환경변수 PYTHONPATH를 생성해서 여기에 폴더를\n",
    "# 지정해도 module을 사용할 수 있는 폴더가 되요!\n"
   ]
  },
  {
   "cell_type": "code",
   "execution_count": null,
   "metadata": {},
   "outputs": [],
   "source": []
  },
  {
   "cell_type": "code",
   "execution_count": null,
   "metadata": {},
   "outputs": [],
   "source": []
  },
  {
   "cell_type": "code",
   "execution_count": null,
   "metadata": {},
   "outputs": [],
   "source": []
  }
 ],
 "metadata": {
  "kernelspec": {
   "display_name": "data_env",
   "language": "python",
   "name": "data_env"
  },
  "language_info": {
   "codemirror_mode": {
    "name": "ipython",
    "version": 3
   },
   "file_extension": ".py",
   "mimetype": "text/x-python",
   "name": "python",
   "nbconvert_exporter": "python",
   "pygments_lexer": "ipython3",
   "version": "3.7.1"
  }
 },
 "nbformat": 4,
 "nbformat_minor": 2
}
