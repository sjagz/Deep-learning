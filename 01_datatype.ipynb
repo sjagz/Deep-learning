{
 "cells": [
  {
   "cell_type": "code",
   "execution_count": 41,
   "metadata": {},
   "outputs": [
    {
     "name": "stdout",
     "output_type": "stream",
     "text": [
      "<class 'list'>\n",
      "[1, 2, 3, 4]\n",
      "[1, 2, ['show', 'me', 'the', 'money!!'], 3, True]\n",
      "<class 'int'>\n",
      "2\n",
      "money!!\n",
      "y!!\n",
      "[True]\n",
      "[0, 1, 2, 3, 4, 5, 6, 7, 8, 9]\n",
      "[1, 2, 3, 4, 5, 6, 7, 8, 9]\n",
      "[1, 4, 7]\n"
     ]
    }
   ],
   "source": [
    "#파이썬의 자료구조 arraylist , hashmap 등등\n",
    "#기본 파이선 배열이 없고 리스트가있음 라이브러리에 배열이 있긴함\n",
    "#파이썬의 리스트는 java의 arrayist와 유사\n",
    "#임의의 객체를 순서대로 저장하는 집합 자료형 \n",
    "#표현방법은 []를 이용 [대괄호]\n",
    "my_list = list() #list() 내장함수를 이용해서 list 생성\n",
    "\n",
    "print(type(my_list))\n",
    "\n",
    "my_list =[1,2,3,4] \n",
    "print(my_list)\n",
    "\n",
    "my_list=[1,2,[\"show\",\"me\",\"the\",\"money!!\"],3,True]\n",
    "print(my_list)\n",
    "\n",
    "\n",
    "#my_list =[1,2,3,14,\"hello\",true]#list의 요소는 다른 데이터 타입을 사용할수 없다 \n",
    "#print(my_list)\n",
    "\n",
    "print(type(my_list[0])) #1이 출력\n",
    "\n",
    "print(my_list[1])#list형식으로 slicing됨 1번째에 해당하는 값 출력\n",
    "\n",
    "print(my_list[2][3])#배열안에 배열값을 가져오는법\n",
    "\n",
    "print(my_list[2][3][-3:])# 배열안에 배열값중 부분을 가져오는것\n",
    "\n",
    "print(my_list[-1:])\n",
    "\n",
    "my_range = range(10) #0부터 9까지 1씩 증가하는 range\n",
    "my_list = list(my_range)\n",
    "print(my_list)\n",
    "\n",
    "my_range = range(1,10)#시작과 끝을 지정 0~9 10개중 1번째부터 시작\n",
    "my_list = list(my_range)\n",
    "print(my_list)\n",
    "\n",
    "my_range = range(1,10,3)#시작과 끝을 지정 0~9 10개중 1번째부터 시작하고 3씩 + 띔\n",
    "my_list = list(my_range)\n",
    "print(my_list)\n",
    "\n",
    "\n",
    "\n"
   ]
  },
  {
   "cell_type": "code",
   "execution_count": 58,
   "metadata": {},
   "outputs": [
    {
     "name": "stdout",
     "output_type": "stream",
     "text": [
      "[1, 2, 3, 4, 5, 6]\n",
      "[1, 2, 3, 1, 2, 3, 1, 2, 3]\n",
      "[[9, 9, 9], 2, 3, 4, 5]\n",
      "[9, 9, 9, 2, 3, 4, 5]\n",
      "[5]\n",
      "[3, 4, 5]\n"
     ]
    }
   ],
   "source": [
    "#list의 기본연산\n",
    "a=[1,2,3]\n",
    "b=[4,5,6]\n",
    "\n",
    "result = a+b # + 연산은 배열 연결으미\n",
    "print(result)\n",
    "\n",
    "result =a * 3 # * 연산 역시 연결돼 있다\n",
    "print(result)\n",
    "\n",
    "\n",
    "a=[1,2,3,4,5]\n",
    "a[0]=[9,9,9] #리스트안에 리스트 형태로 출력 인덱싱\n",
    "print(a)\n",
    "\n",
    "\n",
    "a[0:1]=[9,9,9] # :1(1번째 까지 잘라내는 의미 슬라이싱) 이라 영역안에 리스트를 넣는것 슬라이싱\n",
    "print(a)\n",
    "\n",
    "a=[1,2,3,4,5]\n",
    "a[0:-1]=[]\n",
    "print(a)\n",
    "\n",
    "a=[1,2,3,4,5]\n",
    "del a[0:-3]\n",
    "print(a)\n"
   ]
  },
  {
   "cell_type": "code",
   "execution_count": 82,
   "metadata": {},
   "outputs": [
    {
     "name": "stdout",
     "output_type": "stream",
     "text": [
      "[1, 2, 3, 4]\n",
      "[1, 2, 3, 4, [9, 9, 9]]\n",
      "[1, 2, 3, 4, [9, 9, 9], 9, 9, 9]\n",
      "[4, 9, 2, 8, 5]\n",
      "None\n",
      "[2, 4, 5, 8, 9]\n",
      "3\n"
     ]
    }
   ],
   "source": [
    "my_list = [1,2,3] \n",
    "\n",
    "my_list.append(4)\n",
    "\n",
    "print(my_list)\n",
    "      \n",
    "my_list.append([9,9,9])\n",
    "\n",
    "print(my_list)\n",
    "\n",
    "my_list.extend([9,9,9])  #list 를 확장시킬때 사용\n",
    "\n",
    "print(my_list)\n",
    "\n",
    "my_list = [5,8,2,9,4] \n",
    "\n",
    "my_list.reverse() # list 안의 요소를 역순으로 배치 리턴하지않고 원본을 변경\n",
    "\n",
    "print(my_list)\n",
    "\n",
    "\n",
    "\n",
    "result2 = my_list.sort() # 오름차순 정렬 sort는 원본을 바꾸고 리턴시켜주지않음 list 원본을 정렬\n",
    "\n",
    "print(result2)\n",
    "\n",
    "print(my_list)\n",
    "\n",
    "my_list = [5,8,2,9,4] \n",
    "\n",
    "print(my_list.index(9))\n",
    "\n",
    "    #위치를 알아내는 함수 index 9가 몇번째에 있냐"
   ]
  },
  {
   "cell_type": "code",
   "execution_count": 90,
   "metadata": {},
   "outputs": [
    {
     "name": "stdout",
     "output_type": "stream",
     "text": [
      "[1, 2, 100, 3]\n",
      "[1, 2, 1, 2, 3, 1, 2, 3]\n",
      "3\n",
      "[1, 2]\n"
     ]
    }
   ],
   "source": [
    "a=[1,2,3]\n",
    "a.insert(2,100)#list안에 원하는 위치에 원하는 값을 추가\n",
    "print(a)\n",
    "\n",
    "\n",
    "a=[1,2,3,1,2,3,1,2,3]\n",
    "a.remove(3) # list안에서 삭제하고자 할때 처음만나는 값만 삭제\n",
    "print(a)\n",
    "\n",
    "\n",
    "a=[1,2,3]\n",
    "\n",
    "result = a.pop()# list 마지막 요소를 뜯어오는 함수\n",
    "\n",
    "print(result)\n",
    "\n",
    "print(a)\n",
    "\n"
   ]
  },
  {
   "cell_type": "code",
   "execution_count": 105,
   "metadata": {},
   "outputs": [
    {
     "name": "stdout",
     "output_type": "stream",
     "text": [
      "87030280\n",
      "True\n",
      "False\n",
      "False\n"
     ]
    }
   ],
   "source": [
    "a=[1,2,3] #[1,2,3,] => list 객체  => 메모리(heap) 어딘가에 저장되어있고  \n",
    "          # a는 list 객체의 시작 메모리 주소에 대한 reference(실제 주소값이 아닌 메모리주소에 대한 해쉬값을 가지고있음)를 가지고있음\n",
    "            #a는 reference valiable 이라고 함 메모리주소에 대한 reference를 가지고 있는것 \n",
    "          #c언어는 직접 메모리주소를 가르킴\n",
    "\n",
    "\n",
    "print(id(a)) #id() reference 값을 알아내는 함수\n",
    "\n",
    "b=a\n",
    "\n",
    "print(a is b) # a와 b가 객체가 같냐 물어봄 is는 객체 같냐 물어보는것 (==)는 값이 같냐 \n",
    "\n",
    "b= a[:]\n",
    "\n",
    "print(a is b)  # a와 b가 서로 다른객체 슬라이싱->다른객체가 만들어져서 false\n",
    "\n",
    "from copy import copy\n",
    "\n",
    "a=[1,2,3]\n",
    "b=copy(a)\n",
    "print(a is b) #false   a와 b가 서로 다른 객체 reference\n",
    "\n",
    "\n",
    "\n"
   ]
  },
  {
   "cell_type": "code",
   "execution_count": 164,
   "metadata": {},
   "outputs": [
    {
     "name": "stdout",
     "output_type": "stream",
     "text": [
      "(1, 2, 3)\n",
      "(1,)\n",
      "123\n",
      "(1, 3.14, 'Hello')\n",
      "(1, 2, 3, 4, 5, 6)\n",
      "3\n",
      "(1, 2, 3)\n",
      "(1, 2, 3, 4, 5)\n"
     ]
    }
   ],
   "source": [
    "# 파이썬의 자료구조 중 list와 상당히 유사한 튜플(tuple)\n",
    "#기호 : () => 소괄호 \n",
    "# list는 안의 값의 수정과 삭제가 가능\n",
    "# 튜플은 안의 값의 수정과 삭제가 불가능\n",
    "\n",
    "\n",
    "my_tuple=(1,2,3)\n",
    "\n",
    "print(my_tuple)\n",
    "\n",
    "my_tuple=(1,) #원소가 1개있는 튜플의 litenal 정수로 판단함 ,를 찍어서 튜플을 명시\n",
    "\n",
    "print(my_tuple)\n",
    "\n",
    "my_tuple = 123 #튜플은 ()생략가능\n",
    "print(my_tuple)\n",
    "\n",
    "\n",
    "my_tuple = (1,3.14,\"Hello\")\n",
    "print(my_tuple)\n",
    "\n",
    "\n",
    "my_tuple = 1,2,3,4,5,6\n",
    "print(my_tuple)\n",
    "\n",
    "my_tuple[2]\n",
    "print(my_tuple[2])     # tuple에 대한 indexing\n",
    "\n",
    "my_tuple[1:4]\n",
    "print(my_tuple[0:3])   # tuple에 대한 slicing 그 결과도 tuple\n",
    "\n",
    "my_tuple =1,2,3\n",
    "result = my_tuple+(4,5)\n",
    "print(result)\n",
    "\n"
   ]
  },
  {
   "cell_type": "code",
   "execution_count": 128,
   "metadata": {},
   "outputs": [
    {
     "name": "stdout",
     "output_type": "stream",
     "text": [
      "<class 'dict'>\n",
      "{'name': '홍길동', 'address': '서울'}\n",
      "{'name': '홍길동', 'address': '서울', 'age': 50}\n",
      "{'name': '홍길동', 'age': 50}\n",
      "{'name': '홍길동', 'age': 50}\n",
      "{'name': '홍길동', 'age': 30}\n"
     ]
    }
   ],
   "source": [
    "# 파이썬 에서 사용되는 map\n",
    "# 파이썬에서는 dictionary 라고 표현\n",
    "# dictionary 는 {}로 표현하고 key와 value의 쌍으로 표현\n",
    "\n",
    "my_dict = {\"name\" : \"홍길동\" , \"address\" : \"서울\"} #제이손과 비슷한 모양\n",
    "print(type(my_dict))\n",
    "print(my_dict)\n",
    "my_dict[\"age\"] = 50 # 배열형태로 사용가능 , 동적으로 key아 value를 추가, 수정 삭제 가능\n",
    "print(my_dict)\n",
    "\n",
    "del my_dict[\"address\"] # \"adreess\" key 삭제\n",
    "print(my_dict)\n",
    "my_dict[\"name\"]  # key는 중복이 안됨 하나 무시함 \n",
    "print(my_dict)\n",
    "my_dict = {\"name\" : \"홍길동\" , \"age\" : 20, \"age\" : 30}\n",
    "print(my_dict)\n"
   ]
  },
  {
   "cell_type": "code",
   "execution_count": 147,
   "metadata": {},
   "outputs": [
    {
     "name": "stdout",
     "output_type": "stream",
     "text": [
      "{'name': '홍길동', 'age': 20, 'address': '서울'}\n",
      "name\n",
      "age\n",
      "address\n",
      "홍길동\n",
      "20\n",
      "서울\n",
      "name,홍길동\n",
      "age,20\n",
      "address,서울\n",
      "홍길동\n",
      "홍길동\n",
      "None\n",
      "True\n",
      "{'name': '홍길동', 'age': 20, 'address': '서울'}\n",
      "{}\n"
     ]
    }
   ],
   "source": [
    " #dictionary 의 일반적인 사용법\n",
    "# 3가지 method를 이용해서 사용\n",
    "# keys()=> dictionary 의 key들을 list로 return  keys() 는 키만 뽑아내는 \n",
    "\n",
    "my_dict ={\"name\" : \"홍길동\" , \"age\" : 20 , \"address\" : \"서울\"}\n",
    "\n",
    "print(my_dict)\n",
    "\n",
    "for tmp in my_dict.keys():        # keys()라는 함수는 dctionary에서 value값만 추출\n",
    "    print(\"{}\".format(tmp))      #앞에서 탭1칸이거나 스페이스 4번 띄워야 구문으로 인식함\n",
    "\n",
    "\n",
    "    \n",
    "for tmp in my_dict.values():       # value()라는 함수는 dctionary에서 value값만 추출\n",
    "    print(\"{}\".format(tmp)) \n",
    "\n",
    "    \n",
    "for (key, value) in my_dict.items():         # items()라는 함수는 dctionary에서 value값만 추출\n",
    "    print(\"{},{}\".format(key,value))\n",
    "    \n",
    "    \n",
    "    \n",
    "#for문 없이 하는것\n",
    "\n",
    "print(my_dict[\"name\"])\n",
    "print(my_dict.get(\"name\"))\n",
    "print(my_dict.get(\"name11\")) # 값을 못찾았을경우 default 값이 나옴\n",
    "\n",
    "\n",
    "    \n",
    "print(\"age\" in my_dict) #값이 안에 있는지 true false \n",
    "\n",
    "\n",
    "print (my_dict)\n",
    "my_dict.clear() # 모두삭제\n",
    "print (my_dict)\n",
    "\n",
    "    "
   ]
  },
  {
   "cell_type": "code",
   "execution_count": null,
   "metadata": {},
   "outputs": [],
   "source": []
  },
  {
   "cell_type": "code",
   "execution_count": null,
   "metadata": {},
   "outputs": [],
   "source": []
  },
  {
   "cell_type": "code",
   "execution_count": null,
   "metadata": {},
   "outputs": [],
   "source": []
  },
  {
   "cell_type": "code",
   "execution_count": null,
   "metadata": {},
   "outputs": [],
   "source": []
  },
  {
   "cell_type": "code",
   "execution_count": null,
   "metadata": {},
   "outputs": [],
   "source": []
  }
 ],
 "metadata": {
  "kernelspec": {
   "display_name": "data_env",
   "language": "python",
   "name": "data_env"
  },
  "language_info": {
   "codemirror_mode": {
    "name": "ipython",
    "version": 3
   },
   "file_extension": ".py",
   "mimetype": "text/x-python",
   "name": "python",
   "nbconvert_exporter": "python",
   "pygments_lexer": "ipython3",
   "version": "3.7.1"
  }
 },
 "nbformat": 4,
 "nbformat_minor": 2
}
