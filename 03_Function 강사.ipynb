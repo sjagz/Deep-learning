{
 "cells": [
  {
   "cell_type": "code",
   "execution_count": 1,
   "metadata": {},
   "outputs": [
    {
     "name": "stdout",
     "output_type": "stream",
     "text": [
      "30\n"
     ]
    }
   ],
   "source": [
    "# python은 독립적인 함수를 사용자가 정의해서\n",
    "# 사용할 수 있어요\n",
    "# 함수의 정의 ( 일반적인 형태 )\n",
    "def my_sum(a,b):\n",
    "    result = a + b\n",
    "    return result\n",
    "    \n",
    "print(my_sum(10,20))"
   ]
  },
  {
   "cell_type": "code",
   "execution_count": 2,
   "metadata": {},
   "outputs": [],
   "source": [
    "# 아무런 일도 하지 않는 함수를 선언하는 경우\n",
    "def do_nothing():\n",
    "    pass"
   ]
  },
  {
   "cell_type": "code",
   "execution_count": null,
   "metadata": {},
   "outputs": [],
   "source": [
    "# python 함수는 내장함수와 사용자 정의 함수"
   ]
  },
  {
   "cell_type": "code",
   "execution_count": 24,
   "metadata": {},
   "outputs": [
    {
     "name": "stdout",
     "output_type": "stream",
     "text": [
      "100\n",
      "False\n",
      "True\n",
      "13\n",
      "89728872\n",
      "None\n",
      "[2, 3, 4, 5, 7, 9]\n",
      "[2, 3, 4, 5, 7, 9]\n",
      "[7, 4, 5, 9, 2, 3]\n"
     ]
    }
   ],
   "source": [
    "# python의 내장함수\n",
    "# abs(x) : x의 절대값을 구하는 함수\n",
    "print(abs(-100))\n",
    "# all(x) : 반복 가능한 대상에 대해 모든것이 True면 True\n",
    "print(all([1,2,3,4,0]))\n",
    "# any(x) : 반복 가능한 대상에 대해 True가 1개라도 \n",
    "#          있으면 True\n",
    "print(any([\"\",0,False,\"Hello World\"]))\n",
    "# eval(x) : 문자열로 입력된 수식을 직접 계산\n",
    "print(eval(\"1+3*4\"))\n",
    "# int(x) : 입력값을 정수로 변환시키는 함수\n",
    "# str(x) : 입력값을 문자열로 변환시키는 함수\n",
    "# len(x) : 입력 parameter에 대한 길이를 구하는 함수\n",
    "# list(x) : 리스트를 생성하거나 리스트로 변환시키는 함수\n",
    "# tuple(x) : tuple로 변환시키는 함수\n",
    "# type(x) : x의 데이터타입을 알아내는 함수\n",
    "# dir(x) : 사용가능한 변수와 함수를 list로 반환시키는 함수\n",
    "# print(dir(\"Hello\"))\n",
    "# id(x) : 입력 객체의 고유 주소값(reference)을 return\n",
    "print(id(\"Hello\"))\n",
    "# divmod(a,b) : a를 b로 나누어서 몫과 나머지를 tuple로 리턴\n",
    "divmod(10,3)  # (3,1)\n",
    "# join() : 리스트를 문자열로 변환할때 많이 이용\n",
    "my_list = [\"Hello\",\"World\",\"!!\"]\n",
    "\"\".join(my_list)\n",
    "# max(), min(), pow() : 최대값 , 최소값, 제곱값\n",
    "max([9,5,2,10,6,7,8])  # 최대값을 알아내요 \n",
    "\n",
    "my_list = [7,4,5,9,2,3]\n",
    "result = my_list.sort()    # 원본이 변해요\n",
    "print(result)\n",
    "print(my_list)\n",
    "\n",
    "my_list = [7,4,5,9,2,3]\n",
    "result = sorted(my_list)   # 원본이 변하지 않아요\n",
    "print(result)\n",
    "print(my_list)"
   ]
  },
  {
   "cell_type": "code",
   "execution_count": 25,
   "metadata": {},
   "outputs": [
    {
     "data": {
      "text/plain": [
       "300"
      ]
     },
     "execution_count": 25,
     "metadata": {},
     "output_type": "execute_result"
    }
   ],
   "source": [
    "# 사용자 정의함수 ( user-define function )\n",
    "# 1. 가장 일반적인 형태\n",
    "def my_calc(a,b):\n",
    "    result = a + b\n",
    "    return result\n",
    "\n",
    "my_calc(100,200)"
   ]
  },
  {
   "cell_type": "code",
   "execution_count": 26,
   "metadata": {},
   "outputs": [
    {
     "data": {
      "text/plain": [
       "15"
      ]
     },
     "execution_count": 26,
     "metadata": {},
     "output_type": "execute_result"
    }
   ],
   "source": [
    "# 사용자 정의함수 ( user-define function )\n",
    "# 2. 인자의 개수에 영향을 받지 않도록 지정\n",
    "def my_calc(*args):\n",
    "    result = 0\n",
    "    for tmp in args:\n",
    "        result += tmp\n",
    "    return result\n",
    "\n",
    "my_calc(1,2,3,4,5)"
   ]
  },
  {
   "cell_type": "code",
   "execution_count": null,
   "metadata": {},
   "outputs": [],
   "source": [
    "# 사용자 정의함수 ( user-define function )\n",
    "# 3. python은 두개 이상의 값을 return할 수 있어요\n",
    "def my_calc(a,b):\n",
    "    result1 = a + b\n",
    "    result2 = a * b\n",
    "    return result1, result2\n",
    "\n",
    "a , b = my_calc(10,20)\n",
    "print(a, b)"
   ]
  },
  {
   "cell_type": "code",
   "execution_count": null,
   "metadata": {},
   "outputs": [],
   "source": [
    "# 사용자 정의함수 ( user-define function )\n",
    "# 4. default값을 이용할 수 있어요!\n",
    "def my_calc(a,b,c=False):\n",
    "    if c:\n",
    "        return a\n",
    "    else:\n",
    "        return b\n",
    "\n",
    "my_calc(10,20)\n",
    "my_calc(10,20,True)"
   ]
  },
  {
   "cell_type": "code",
   "execution_count": 28,
   "metadata": {},
   "outputs": [
    {
     "data": {
      "text/plain": [
       "30"
      ]
     },
     "execution_count": 28,
     "metadata": {},
     "output_type": "execute_result"
    }
   ],
   "source": [
    "# 사용자 정의함수 ( user-define function )\n",
    "# 5. 외부변수를 사용할 수 있어요!\n",
    "result = 0\n",
    "\n",
    "def my_calc(a,b):\n",
    "    global result     # 코드가 서로 연결되기 때문에 \n",
    "    result += (a+b)   # 유지보수에 문제점이 있어요\n",
    "    return result\n",
    "\n",
    "my_calc(10,20)"
   ]
  },
  {
   "cell_type": "code",
   "execution_count": null,
   "metadata": {},
   "outputs": [],
   "source": []
  },
  {
   "cell_type": "code",
   "execution_count": null,
   "metadata": {},
   "outputs": [],
   "source": []
  },
  {
   "cell_type": "code",
   "execution_count": null,
   "metadata": {},
   "outputs": [],
   "source": []
  }
 ],
 "metadata": {
  "kernelspec": {
   "display_name": "data_env",
   "language": "python",
   "name": "data_env"
  },
  "language_info": {
   "codemirror_mode": {
    "name": "ipython",
    "version": 3
   },
   "file_extension": ".py",
   "mimetype": "text/x-python",
   "name": "python",
   "nbconvert_exporter": "python",
   "pygments_lexer": "ipython3",
   "version": "3.7.1"
  }
 },
 "nbformat": 4,
 "nbformat_minor": 2
}
