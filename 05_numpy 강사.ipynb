{
 "cells": [
  {
   "cell_type": "code",
   "execution_count": 2,
   "metadata": {},
   "outputs": [],
   "source": [
    "# NumPy\n",
    "# Numerical Python의 약자\n",
    "# Vector, Matrix연산에 상당한 편의성 제공\n",
    "# Pandas, matplotlib의 기반이 되는 library\n",
    "\n",
    "# Numpy는 ndarray라는 배열을 사용\n",
    "# ndarray ( n-dimension array )\n",
    "# 배열의 가장 큰 특성은 같은 데이터 타입을 가져요\n",
    "# 사용방법은 list와 거의 비슷합니다. 하지만\n",
    "# 실행속도면이나 메모리용량등에서 비교할 수가 없어요"
   ]
  },
  {
   "cell_type": "code",
   "execution_count": 13,
   "metadata": {},
   "outputs": [
    {
     "name": "stdout",
     "output_type": "stream",
     "text": [
      "<class 'list'>\n",
      "a[0] : 1, a[0]의 type : <class 'int'>\n",
      "[1, 2, 3, 4]\n",
      "[1 2 3 4]\n",
      "<class 'numpy.ndarray'>\n",
      "1\n",
      "<class 'numpy.int32'>\n",
      "int32\n",
      "[[1, 2, 3], [4, 5, 6]]\n",
      "[[1 2 3]\n",
      " [4 5 6]]\n"
     ]
    }
   ],
   "source": [
    "# conda install numpy를 이용해서 numpy 설치 후,\n",
    "# numpy를 사용하기 위해서는 module을 import\n",
    "import numpy as np\n",
    "\n",
    "a = [1,2,3,4]  # python list\n",
    "print(type(a)) # python list type을 출력\n",
    "print(\"a[0] : {}, a[0]의 type : {}\".format(a[0],type(a[0])))\n",
    "print(a)\n",
    "\n",
    "arr = np.array([1,2,3,4])\n",
    "print(arr)       # numpy array 출력\n",
    "print(type(arr)) # numpy array type 출력\n",
    "print(arr[0])    # numpy array 요소 출력\n",
    "print(type(arr[0])) # numpy array 요소 타입 출력\n",
    "print(arr.dtype) # dtype : data type을 지칭\n",
    "\n",
    "# 2차원 리스트( 리스트 안에 리스트가 있는 구조 )\n",
    "my_list = [[1,2,3], [4,5,6]]\n",
    "print(my_list)\n",
    "arr = np.array(my_list)\n",
    "print(arr)"
   ]
  },
  {
   "cell_type": "code",
   "execution_count": 14,
   "metadata": {},
   "outputs": [
    {
     "data": {
      "text/plain": [
       "array(['100', '3.14', '홍길동', 'True'], dtype='<U32')"
      ]
     },
     "execution_count": 14,
     "metadata": {},
     "output_type": "execute_result"
    }
   ],
   "source": [
    "# list를 이용해서 numpy array를 생성할 수 있어요~!\n",
    "# data type이 가지각색인 list를 이용해서 \n",
    "# numpy array를 만들면 어떻게 되나요?\n",
    "import numpy as np\n",
    "\n",
    "my_list = [100, 3.14,\"홍길동\", True]\n",
    "# 문자열을 기반으로 한 numpy array가 생성\n",
    "arr = np.array(my_list)"
   ]
  },
  {
   "cell_type": "code",
   "execution_count": 19,
   "metadata": {},
   "outputs": [
    {
     "name": "stdout",
     "output_type": "stream",
     "text": [
      "5\n",
      "[[1. 2. 3.]\n",
      " [4. 5. 6.]]\n",
      "5.0\n"
     ]
    }
   ],
   "source": [
    "# indexing 표현법\n",
    "import numpy as np\n",
    "\n",
    "my_list = [[1,2,3],[4,5,6]]\n",
    "print(my_list[1][1])  # list의 indexing\n",
    "\n",
    "# numpy array 생성 시 data type을 지정\n",
    "arr = np.array(my_list, dtype=np.float64)\n",
    "print(arr)\n",
    "print(arr[1,1])       # array의 indexing "
   ]
  },
  {
   "cell_type": "code",
   "execution_count": 26,
   "metadata": {},
   "outputs": [
    {
     "name": "stdout",
     "output_type": "stream",
     "text": [
      "[[1 2 3]\n",
      " [4 5 6]]\n",
      "2\n",
      "(2, 3)\n",
      "2\n",
      "6\n"
     ]
    }
   ],
   "source": [
    "# numpy array의 차원의 개수, 크기\n",
    "import numpy as np\n",
    "\n",
    "my_list = [[1,2,3],[4,5,6]]\n",
    "#my_list = [1,2,3,4,5]\n",
    "arr = np.array(my_list)\n",
    "print(arr)      # 배열의 내용을 출력\n",
    "print(arr.ndim) # 배열의 차원을 출력\n",
    "print(arr.shape) # 배열의 형태(행과열의개수) tuple로 출력\n",
    "print(len(arr))  # 1차원의 형태의 길이를 알아오는 함수\n",
    "print(arr.size)  # 배열안의 전체 요소의 개수"
   ]
  },
  {
   "cell_type": "code",
   "execution_count": 28,
   "metadata": {},
   "outputs": [],
   "source": [
    "# numpy array의 axis\n",
    "# axis는 차원에 영향을 받아요!\n",
    "# ndarray가 1차원이면 axis=0\n",
    "# ndarray가 2차원이면 axis=0, axis=1\n",
    "# ndarray가 3차원이면 axis=0, axis=1, axis=2\n",
    "\n",
    "# ndarray가 1차원이면 axis=0, \n",
    "#  [ 1 2 3 4 5 6 ]\n",
    "\n",
    "# ndarray가 2차원이면 axis=0, axis=1\n",
    "#  [ 1 2 3 \n",
    "#    4 5 6 ]"
   ]
  },
  {
   "cell_type": "code",
   "execution_count": 38,
   "metadata": {},
   "outputs": [
    {
     "name": "stdout",
     "output_type": "stream",
     "text": [
      "[ 1  2  3  4  5  6  7  8  9 10 11 12]\n",
      "1\n",
      "(12,)\n",
      "12\n",
      "[[[ 1  2]\n",
      "  [ 3  4]]\n",
      "\n",
      " [[ 5  6]\n",
      "  [ 7  8]]\n",
      "\n",
      " [[ 9 10]\n",
      "  [11 12]]]\n"
     ]
    }
   ],
   "source": [
    "# numpy array는 형태를 내가 원하는 차원으로\n",
    "# 변환시킬 수 있어요!\n",
    "import numpy as np\n",
    "\n",
    "arr = np.array([1,2,3,4,5,6,7,8,9,10,11,12])\n",
    "print(arr)\n",
    "print(arr.ndim)  # 1 => 1차원이라는 의미\n",
    "print(arr.shape) # (12,) => 1차원이고 12개의 원소가 있어요\n",
    "print(arr.size)  # 12 => array안에 들어있는 원소 총 개수\n",
    "\n",
    "arr.shape = (3,4) # 2차원(3행 4열) 배열행태로 변환\n",
    "print(arr)        # 배열의 원본형태가 변환되요!"
   ]
  },
  {
   "cell_type": "code",
   "execution_count": 57,
   "metadata": {},
   "outputs": [
    {
     "name": "stdout",
     "output_type": "stream",
     "text": [
      "\n",
      "arr[0,0] = 1, arr[0,1] = 2, arr[0,2] = 3, \n",
      "arr[1,0] = 4, arr[1,1] = 5, arr[1,2] = 6, \n",
      "arr[2,0] = 7, arr[2,1] = 8, arr[2,2] = 9, \n",
      "arr[3,0] = 10, arr[3,1] = 11, arr[3,2] = 12, "
     ]
    }
   ],
   "source": [
    "# 간단한 문제\n",
    "import numpy as np\n",
    "\n",
    "arr = np.array([[1,2,3],\n",
    "                [4,5,6],\n",
    "                [7,8,9],\n",
    "                [10,11,12]])\n",
    "# 출력을 다음과 같이 하려고 해요\n",
    "# arr[0,0] = 1, arr[0,1] = 2, arr[0,2] = 3\n",
    "# arr[1,0] = 4, arr[1,1] = 5, arr[1,2] = 6\n",
    "# arr[2,0] = 7, arr[2,1] = 8, arr[2,2] = 9\n",
    "# arr[3,0] = 10, arr[3,1] = 11, arr[3,2] = 12\n",
    "# 위와 같이 출력이 되도록 코드를 작성하세요!\n",
    "for i in range(arr.shape[0]):\n",
    "    print()\n",
    "    for j in range(arr.shape[1]):\n",
    "        print(\"arr[{},{}] = {}\".format(i,j,arr[i,j]),\n",
    "             end=\", \")"
   ]
  },
  {
   "cell_type": "code",
   "execution_count": 43,
   "metadata": {},
   "outputs": [
    {
     "name": "stdout",
     "output_type": "stream",
     "text": [
      "[1 2 3 4 5]\n",
      "int32\n",
      "[1. 2. 3. 4. 5.]\n",
      "float64\n",
      "['1' '2' '3' '4' '5']\n",
      "<U11\n"
     ]
    }
   ],
   "source": [
    "# numpy array의 type을 다른 type으로 변환\n",
    "import numpy as np\n",
    "\n",
    "arr = np.array([1,2,3,4,5]) # dtype : int32\n",
    "print(arr)\n",
    "print(arr.dtype)  \n",
    "arr1 = arr.astype(np.float64) # 실수로 dtype 변환\n",
    "print(arr1)\n",
    "print(arr1.dtype)\n",
    "arr1 = arr.astype(np.str)   # 문자열로 dtype 변환\n",
    "print(arr1)\n",
    "print(arr1.dtype)"
   ]
  },
  {
   "cell_type": "code",
   "execution_count": 54,
   "metadata": {},
   "outputs": [
    {
     "name": "stdout",
     "output_type": "stream",
     "text": [
      "[[0 0 0 0]\n",
      " [0 0 0 0]\n",
      " [0 0 0 0]]\n"
     ]
    }
   ],
   "source": [
    "# 다양한 생성 함수\n",
    "import numpy as np\n",
    "\n",
    "# arr = np.array([1,2,3,4,5], dtype=np.float64)\n",
    "arr = np.zeros((3,4), dtype=np.int32)  \n",
    "                       # shape을 지정해야 되요\n",
    "                       # array의 모든 요소를 0으로 세팅\n",
    "                       # default dtype : float64\n",
    "print(arr)"
   ]
  },
  {
   "cell_type": "code",
   "execution_count": 62,
   "metadata": {},
   "outputs": [
    {
     "data": {
      "text/plain": [
       "array([[20, 20, 20, 20],\n",
       "       [20, 20, 20, 20],\n",
       "       [20, 20, 20, 20]])"
      ]
     },
     "execution_count": 62,
     "metadata": {},
     "output_type": "execute_result"
    }
   ],
   "source": [
    "# 다양한 생성함수들 - ones\n",
    "import numpy as np\n",
    "\n",
    "arr = np.ones((2,3), dtype=np.int32) # 1로 채워요\n",
    "arr = np.empty((3,3))  # 초기값을 안주고 공간만 만들어요\n",
    "                       # 쓰레기값이 있을 수 있어요\n",
    "arr = np.full((3,4),10) # 내가 원하는 값으로 초기화\n",
    "\n",
    "arr1 = np.full_like(arr,20) # 특정 array의 shape과 \n",
    "                            # 같은 array를 만들어요\n",
    "arr1"
   ]
  },
  {
   "cell_type": "code",
   "execution_count": 63,
   "metadata": {},
   "outputs": [
    {
     "data": {
      "text/plain": [
       "array([0, 1, 2, 3, 4, 5, 6, 7, 8, 9])"
      ]
     },
     "execution_count": 63,
     "metadata": {},
     "output_type": "execute_result"
    }
   ],
   "source": [
    "# python -> range(), numpy -> arange()\n",
    "arr = np.arange(0,10,1)  # 0이상 10미만의 1의 크기로\n",
    "                         # 증가하는 요소를 가지는\n",
    "                         # numpy array 생성\n",
    "arr"
   ]
  },
  {
   "cell_type": "code",
   "execution_count": 2,
   "metadata": {},
   "outputs": [
    {
     "data": {
      "image/png": "[encoded data removed]",
      "text/plain": [
       "<Figure size 432x288 with 1 Axes>"
      ]
     },
     "metadata": {
      "needs_background": "light"
     },
     "output_type": "display_data"
    }
   ],
   "source": [
    "# numpy array를 만드는 또 다른 방법 ( linspace )\n",
    "# np.linspace(start,stop,num)\n",
    "# start부터 시작해서 stop까지 num개를 균일한\n",
    "# 간격으로 데이터를 생성해서 numpy array를 만드는 \n",
    "# 함수\n",
    "import numpy as np\n",
    "import matplotlib.pyplot as plt\n",
    "\n",
    "arr = np.linspace(0,10,6)\n",
    "plt.plot(arr,\"o\")\n",
    "plt.show()"
   ]
  },
  {
   "cell_type": "code",
   "execution_count": 14,
   "metadata": {},
   "outputs": [
    {
     "data": {
      "image/png": "[encoded data removed]",
      "text/plain": [
       "<Figure size 432x288 with 1 Axes>"
      ]
     },
     "metadata": {
      "needs_background": "light"
     },
     "output_type": "display_data"
    }
   ],
   "source": [
    "# random하게 numpy array를 생성하는 방법\n",
    "\n",
    "import numpy as np\n",
    "import matplotlib.pyplot as plt\n",
    "\n",
    "# 정규분포에서 난수값을 추출해서 array를 생성하는 방법\n",
    "# 추출된 난수값들이 정규분포를 띄어요!\n",
    "mean = 10 # 평균\n",
    "std = 2 # 표준편차\n",
    "arr = np.random.normal(mean,std,(1000,))\n",
    "#plt.hist(arr,bins=100)\n",
    "#plt.show()\n",
    "\n",
    "# 균등분포에서 난수값을 추출해서 array를 생성하는 방법\n",
    "# [0,1) 0이상 1미만의 구간에서 균등하게 난수 발생\n",
    "arr = np.random.rand(10000) # 1차원형태로 10000개 난수 추출\n",
    "#plt.hist(arr,bins=100)\n",
    "#plt.show()\n",
    "\n",
    "# 표준정규분포에서 난수값을 추출해서 array를 생성\n",
    "arr = np.random.randn(10000) # 1차원형태로 10000개 난수 추출\n",
    "#plt.hist(arr,bins=100)\n",
    "#plt.show()\n",
    "\n",
    "# 주어진 범위에서 균등분포로 정수형 난수를 추출해서\n",
    "# numpy array로 생성하는 함수\n",
    "arr = np.random.randint(0,100,(5000,)) \n",
    "#plt.hist(arr,bins=100)\n",
    "#plt.show()\n",
    "\n",
    "\n",
    "# 균등분포에서 난수값을 추출해서 array를 생성하는 방법\n",
    "# [0,1) 0이상 1미만의 구간에서 균등하게 실수 난수 발생\n",
    "arr = np.random.random((10000,)) # 1차원형태로 10000개 난수 추출\n",
    "plt.hist(arr,bins=100)\n",
    "plt.show()\n"
   ]
  },
  {
   "cell_type": "code",
   "execution_count": 39,
   "metadata": {},
   "outputs": [
    {
     "name": "stdout",
     "output_type": "stream",
     "text": [
      "[[99 78 61 16]\n",
      " [73  8 62 27]\n",
      " [30 80  7 76]]\n"
     ]
    }
   ],
   "source": [
    "# random함수는 실행시킬 때마다 다른 값을 추출해요\n",
    "# random값 도출도 하나의 알고리즘을 이용한 순열을\n",
    "# 프로그램적으로 뽑아내는 것.\n",
    "# 이 알고리즘을 사용할 때 특정 초기값을 이용해서\n",
    "# 알고리즘을 돌려요.(seed값) 만약 이 seed값이 동일하다면\n",
    "# random 알고리즘은 당연히 같은 난수를 도출(난수의 재연)\n",
    "\n",
    "import numpy as np\n",
    "\n",
    "np.random.seed(5)  # seed 값 고정을 통한 난수 재연\n",
    "arr = np.random.randint(0,100,(3,4))\n",
    "print(arr)"
   ]
  },
  {
   "cell_type": "code",
   "execution_count": null,
   "metadata": {},
   "outputs": [],
   "source": [
    "#### NumPy ####\n",
    "# 1. NumPy 특징\n",
    "#    - Vector, Matrix 계산에 특화된 python library\n",
    "#    - 빠른 속도, 적은 메모리, ndarrary라는 배열이용\n",
    "#    - 다른 library의 기반이 되는 library\n",
    "# 2. NumPy array(ndarray) 생성\n",
    "#    - np.array(list, dtype=np.float64)\n",
    "# 3. NumPy array 특징\n",
    "#    - arr.ndim, arr.shape, arr.size, axis,\n",
    "# 4. NumPy array 다양한 생성 함수\n",
    "#    - zeros(), ones(), full(), empty(),\n",
    "#    - zeros_like(), arange, linspace()\n",
    "#    - random기반 생성 함수"
   ]
  },
  {
   "cell_type": "code",
   "execution_count": 48,
   "metadata": {},
   "outputs": [
    {
     "data": {
      "text/plain": [
       "array([[11, 30, 26,  8, 51, 61, 84],\n",
       "       [52, 74, 25,  9, 31, 39, 59]])"
      ]
     },
     "execution_count": 48,
     "metadata": {},
     "output_type": "execute_result"
    }
   ],
   "source": [
    "# numpy의 파일입출력은 크게 2가지로 나누어져요\n",
    "# 1. binary 형태로 저장하고 불러올 수 있어요\n",
    "# 2. text 형태로 저장하고 불러올 수 있어요!\n",
    "import numpy as np\n",
    "\n",
    "# 사용데이터\n",
    "arr1 = np.random.randint(0,100,(5,4))\n",
    "arr2 = np.random.randint(0,100,(2,7))\n",
    "\n",
    "# 1. 배열 1개를 파일 1개에 저장 ( binary형태로 )\n",
    "# 파일의 확장자가 정해져 있어요 ( .npy )\n",
    "np.save(\"./save_bin\",arr1)\n",
    "# 2. 배열 2개 이상을 파일 1개에 저장 ( binary형태로 )\n",
    "# 파일의 확장자가 정해져 있어요 ( .npz )\n",
    "np.savez(\"./savez_bin\",arr1,arr2)\n",
    "# 3. binary형태의 파일에서 numpy array를 읽어들이기\n",
    "new_arr1 = np.load(\"./save_bin.npy\")\n",
    "new_arr1 = np.load(\"./savez_bin.npz\")\n",
    "new_arr1[\"arr_1\"]  # 배열을 여러개 읽어들였을 때 각각의\n",
    "                   # 배열에 대한 reference    "
   ]
  },
  {
   "cell_type": "code",
   "execution_count": 63,
   "metadata": {},
   "outputs": [
    {
     "name": "stdout",
     "output_type": "stream",
     "text": [
      "[(b'\"Lee\"', b'\"CS\"', 3, 3.7) (b'\"Park\"', b'\"MECHANIC\"', 1, 2.2)\n",
      " (b'\"Kim\"', b'\"MATH\"', 2, 4.1)]\n",
      "\"MECHANIC\"\n"
     ]
    }
   ],
   "source": [
    "# numpy 파일입출력 ( text 형태 )\n",
    "import numpy as np\n",
    "\n",
    "# 사용데이터\n",
    "arr = np.random.randn(5,4)\n",
    "\n",
    "# csv(comma seperated value)파일에 저장\n",
    "#np.savetxt(\"./savetxt.csv\", arr, delimiter=\",\", fmt=\"%.3f\")\n",
    "\n",
    "# text file에서 데이터를 불러오기 위해서는\n",
    "#new_arr = np.loadtxt(\"./savetxt.csv\", \n",
    "#                     delimiter=\",\", dtype=np.float64)\n",
    "#print(new_arr)\n",
    "new_arr = np.loadtxt(\"./savetxt.csv\", delimiter=\",\",\n",
    "                    skiprows=1, dtype={\n",
    "                        \"names\" : (\"name\",\"dept\",\"year\",\"grade\"),\n",
    "                        \"formats\" : (\"S10\",\"S10\",\"i\",\"f\") \n",
    "                    })\n",
    "print(new_arr)\n",
    "print(new_arr[1][1].decode())"
   ]
  },
  {
   "cell_type": "code",
   "execution_count": null,
   "metadata": {},
   "outputs": [],
   "source": []
  },
  {
   "cell_type": "code",
   "execution_count": null,
   "metadata": {},
   "outputs": [],
   "source": []
  },
  {
   "cell_type": "code",
   "execution_count": null,
   "metadata": {},
   "outputs": [],
   "source": []
  },
  {
   "cell_type": "code",
   "execution_count": null,
   "metadata": {},
   "outputs": [],
   "source": []
  },
  {
   "cell_type": "code",
   "execution_count": null,
   "metadata": {},
   "outputs": [],
   "source": []
  }
 ],
 "metadata": {
  "kernelspec": {
   "display_name": "data_env",
   "language": "python",
   "name": "data_env"
  },
  "language_info": {
   "codemirror_mode": {
    "name": "ipython",
    "version": 3
   },
   "file_extension": ".py",
   "mimetype": "text/x-python",
   "name": "python",
   "nbconvert_exporter": "python",
   "pygments_lexer": "ipython3",
   "version": "3.6.8"
  }
 },
 "nbformat": 4,
 "nbformat_minor": 2
}
