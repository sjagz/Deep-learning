{
 "cells": [
  {
   "cell_type": "code",
   "execution_count": 15,
   "metadata": {},
   "outputs": [
    {
     "data": {
      "text/html": [
       "<div>\n",
       "<style scoped>\n",
       "    .dataframe tbody tr th:only-of-type {\n",
       "        vertical-align: middle;\n",
       "    }\n",
       "\n",
       "    .dataframe tbody tr th {\n",
       "        vertical-align: top;\n",
       "    }\n",
       "\n",
       "    .dataframe thead th {\n",
       "        text-align: right;\n",
       "    }\n",
       "</style>\n",
       "<table border=\"1\" class=\"dataframe\">\n",
       "  <thead>\n",
       "    <tr style=\"text-align: right;\">\n",
       "      <th></th>\n",
       "      <th>a</th>\n",
       "      <th>z</th>\n",
       "    </tr>\n",
       "  </thead>\n",
       "  <tbody>\n",
       "    <tr>\n",
       "      <th>0</th>\n",
       "      <td>0.1</td>\n",
       "      <td>1.280</td>\n",
       "    </tr>\n",
       "    <tr>\n",
       "      <th>1</th>\n",
       "      <td>0.05</td>\n",
       "      <td>1.645</td>\n",
       "    </tr>\n",
       "    <tr>\n",
       "      <th>2</th>\n",
       "      <td>0.025</td>\n",
       "      <td>1.960</td>\n",
       "    </tr>\n",
       "    <tr>\n",
       "      <th>3</th>\n",
       "      <td>0.01</td>\n",
       "      <td>2.330</td>\n",
       "    </tr>\n",
       "    <tr>\n",
       "      <th>4</th>\n",
       "      <td>0.005</td>\n",
       "      <td>2.580</td>\n",
       "    </tr>\n",
       "  </tbody>\n",
       "</table>\n",
       "</div>"
      ],
      "text/plain": [
       "       a      z\n",
       "0    0.1  1.280\n",
       "1   0.05  1.645\n",
       "2  0.025  1.960\n",
       "3   0.01  2.330\n",
       "4  0.005  2.580"
      ]
     },
     "metadata": {},
     "output_type": "display_data"
    },
    {
     "name": "stdout",
     "output_type": "stream",
     "text": [
      "유의수준 입력0.05\n",
      "1    1.645\n",
      "Name: z, dtype: float64\n",
      "표준편차 입력12\n",
      "표본100\n",
      "초기값150\n",
      "1    151.974\n",
      "Name: z, dtype: float64\n"
     ]
    }
   ],
   "source": [
    "#문제 \n",
    "\n",
    "#공식부터 \n",
    "#데이터프레임\n",
    "\n",
    "import numpy as np\n",
    "import pandas as pd\n",
    "import math \n",
    "\n",
    "data= { \"a\":[\"0.1\",\"0.05\",\"0.025\",\"0.01\",\"0.005\"],\n",
    "        \"z\":[1.28,1.645,1.96,2.33,2.58]\n",
    "      }\n",
    "\n",
    "cols=[\"a\",\"z\"]\n",
    "df = pd.DataFrame(data, columns=cols, index=range(5))\n",
    "display(df)\n",
    "b=input(\"유의수준 입력\")\n",
    "\n",
    "c=df.loc[df[\"a\"]==b ,\"z\"]\n",
    "\n",
    "print(c)\n",
    "\n",
    "#c = df.loc[df[\"a\"] ==b,\"z\"]\n",
    "\n",
    "stand=float(input(\"표준편차 입력\"))\n",
    "number=float(input(\"표본\"))\n",
    "mean=float(input(\"초기값\"))\n",
    "\n",
    "x= math.sqrt(number)\n",
    "\n",
    "#z=(cv-mean)/(stand/x)\n",
    "\n",
    "cv=(c*(stand/x))+mean\n",
    "\n",
    "print(cv)\n",
    "\n"
   ]
  },
  {
   "cell_type": "code",
   "execution_count": null,
   "metadata": {},
   "outputs": [],
   "source": [
    "#"
   ]
  },
  {
   "cell_type": "code",
   "execution_count": null,
   "metadata": {},
   "outputs": [],
   "source": []
  },
  {
   "cell_type": "code",
   "execution_count": null,
   "metadata": {},
   "outputs": [],
   "source": []
  },
  {
   "cell_type": "code",
   "execution_count": null,
   "metadata": {},
   "outputs": [],
   "source": []
  },
  {
   "cell_type": "code",
   "execution_count": null,
   "metadata": {},
   "outputs": [],
   "source": []
  },
  {
   "cell_type": "code",
   "execution_count": null,
   "metadata": {},
   "outputs": [],
   "source": []
  },
  {
   "cell_type": "code",
   "execution_count": null,
   "metadata": {},
   "outputs": [],
   "source": []
  },
  {
   "cell_type": "code",
   "execution_count": null,
   "metadata": {},
   "outputs": [],
   "source": []
  }
 ],
 "metadata": {
  "kernelspec": {
   "display_name": "data_env",
   "language": "python",
   "name": "data_env"
  },
  "language_info": {
   "codemirror_mode": {
    "name": "ipython",
    "version": 3
   },
   "file_extension": ".py",
   "mimetype": "text/x-python",
   "name": "python",
   "nbconvert_exporter": "python",
   "pygments_lexer": "ipython3",
   "version": "3.6.8"
  }
 },
 "nbformat": 4,
 "nbformat_minor": 2
}
