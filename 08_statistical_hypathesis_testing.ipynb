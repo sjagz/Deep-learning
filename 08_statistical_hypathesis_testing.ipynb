{
 "cells": [
  {
   "cell_type": "code",
   "execution_count": null,
   "metadata": {},
   "outputs": [],
   "source": [
    "#통계의 목적에 따른 분류\n",
    "# 1.기술 통계-> 우리에게 주어진 데이터를 요약 설명 분석하는 통계기법을 의미 \n",
    "# - pandas(EDA - 탐색적 데이터 분석)\n",
    "# - 평균(대표값) , 분산(데이터의 분포)\n",
    "\n",
    "# 2.추리 통계\n",
    "# - 수집한 데이터를 기반으로 어떠한 사실을 예측하고 가정 검증하는 통계기법을 의미 \n",
    "#     \n",
    "# - 통계적 가설검증\n",
    "#   표본으로 부터 얻은 어떤 사실을 근간으로 가설이 맞는지를 통계적으로 검증하는 방법\n",
    "#   먼저 데이터에 대한 가설을 정의하는 것 \n",
    "\n",
    "\n",
    "#   - 귀무가설 => 내가 원하는 가설이 아닌 진실 (채택되길 원하는 가설이 아니다 reject가되길 기대하는 가설)\n",
    "                # 관계가 없다 영향력이 없다 관련이 없다 \n",
    "\n",
    "#   - 대립가설 => \n",
    "             # 관계가 있다 영향력이 있다 관계가 있다\n",
    "             # 채택되기를 원하는 가설 \n",
    "        "
   ]
  },
  {
   "cell_type": "code",
   "execution_count": null,
   "metadata": {},
   "outputs": [],
   "source": [
    "#문제 \n",
    "\n",
    "#공식부터 \n",
    "#데이터프레임\n",
    "\n",
    "import numpy as np\n",
    "import pandas as pd\n",
    "import math \n",
    "\n",
    "data= { \"a\":[0.1,0.05,0.025,0.01,0.005],\n",
    "        \"z\":[1.28,1.64,1.96,2.33,2.58]\n",
    "      }\n",
    "\n",
    "cols=[\"a\",\"z\"]\n",
    "df = pd.DataFrame(data, columns=cols, index=range(5))\n",
    "display(df)\n",
    "b=input(\"유의수준 입력\")\n",
    "\n",
    "display(df.loc[df[\"a\"] ==b,\"z\"])\n",
    "#c = df.loc[df[\"a\"] ==b,\"z\"]\n",
    "\n",
    "stand=input(\"표준편차 입력\")\n",
    "number=input(\"표본\")\n",
    "mean=input(\"초기값\")\n",
    "x= math.sqrt(number)\n",
    "\n",
    "#z=(cv-mean)/stand/number\n",
    "\n",
    "cv=c*(stand/number)+mean"
   ]
  },
  {
   "cell_type": "code",
   "execution_count": 11,
   "metadata": {},
   "outputs": [
    {
     "data": {
      "text/plain": [
       "0.5"
      ]
     },
     "execution_count": 11,
     "metadata": {},
     "output_type": "execute_result"
    }
   ],
   "source": [
    "z=1/2\n",
    "\n",
    "z"
   ]
  },
  {
   "cell_type": "code",
   "execution_count": null,
   "metadata": {},
   "outputs": [],
   "source": [
    "#문제 \n",
    "\n",
    "#공식부터 \n",
    "#데이터프레임\n",
    "\n",
    "import numpy as np\n",
    "import pandas as pd\n",
    "import math \n",
    "\n",
    "data= { \"a\":[0.1,0.05,0.025,0.01,0.005],\n",
    "        \"z\":[1.28,1.64,1.96,2.33,2.58]\n",
    "      }\n",
    "\n",
    "cols=[\"a\",\"z\"]\n",
    "df = pd.DataFrame(data, columns=cols, index=range(5))\n",
    "display(df)\n",
    "b=input(\"유의수준 입력\")\n",
    "\n",
    "display(df.loc[df[\"a\"] ==b,\"z\"])\n",
    "#c = df.loc[df[\"a\"] ==b,\"z\"]\n",
    "\n",
    "stand=input(\"표준편차 입력\")\n",
    "number=input(\"표본\")\n",
    "mean=input(\"초기값\")\n",
    "x= math.sqrt(number)\n",
    "\n",
    "#z=(cv-mean)/stand/number\n",
    "\n",
    "cv=c*(stand/number)+mean"
   ]
  },
  {
   "cell_type": "code",
   "execution_count": null,
   "metadata": {},
   "outputs": [],
   "source": [
    "\n",
    "import numpy as np\n",
    "import pandas as pd\n",
    "import math \n",
    "\n",
    "data= { \"a\":[0.1,0.05,0.025,0.01,0.005],\n",
    "        \"z\":[1.28,1.64,1.96,2.33,2.58]\n",
    "      }\n",
    "\n",
    "cols=[\"a\",\"z\"]\n",
    "\n",
    "\n"
   ]
  },
  {
   "cell_type": "code",
   "execution_count": null,
   "metadata": {},
   "outputs": [],
   "source": [
    "#### matplotlib 을 이용한 그래프 \n",
    "#data간의 관계 방향성등을눈으로 파악하기 위해서 사용\n",
    "\n",
    "##통계\n",
    "#통계는 목적에 따라서 크게 두가지 분류로 구분 \n",
    "#1.가지고 있는 데이터를 분석해서 해당 데이터를 요약하거나 특정한사실을 이끌어내는 통계기법 기술통계 edm\n",
    "\n",
    "\n",
    "#2. 수집한 데이터를 기반으로 군집단의 특성을 유추\n",
    "#   독립변수에 따른 종속변수의 변화를 예측하기 위해서 사용하는 통계기법\n",
    "#   추론 통계\n",
    "#   ==> 통계적 가설 검정\n",
    "#\n",
    "\n",
    "\n",
    "\n",
    "그럼 표본을 전수조사와 비슷하게\n",
    "\n",
    "만명중 100명을 뽑아 통계 \n",
    "\n",
    "극과극 + 가운데 평균\n",
    "\n",
    "100에 12만원\n",
    "\n",
    "\n",
    "#z=(cv-mean)/stand/number\n",
    "\n",
    "\n",
    "# 범주형-> 카이검정\n"
   ]
  },
  {
   "cell_type": "code",
   "execution_count": 67,
   "metadata": {},
   "outputs": [
    {
     "data": {
      "text/plain": [
       "[173.25388882528856,\n",
       " 171.96544124183836,\n",
       " 171.60799569105654,\n",
       " 171.48590501692453,\n",
       " 170.9160527285396,\n",
       " 173.06003588397138,\n",
       " 171.52533474949462,\n",
       " 170.656962009794,\n",
       " 170.4652622047969,\n",
       " 170.84692219040855]"
      ]
     },
     "metadata": {},
     "output_type": "display_data"
    },
    {
     "name": "stdout",
     "output_type": "stream",
     "text": [
      "gruop1의 평균 : 171.5783800542113\n"
     ]
    },
    {
     "data": {
      "text/plain": [
       "[175.79154682307322,\n",
       " 176.37487765380826,\n",
       " 176.58650140525117,\n",
       " 176.9871457753389,\n",
       " 176.30678784807594,\n",
       " 175.12389178342517,\n",
       " 175.47758786295938,\n",
       " 177.3328187290584,\n",
       " 175.35844936678103,\n",
       " 175.07573896453502]"
      ]
     },
     "metadata": {},
     "output_type": "display_data"
    },
    {
     "name": "stdout",
     "output_type": "stream",
     "text": [
      "gruop2의 평균 : 176.04153462123065\n",
      "2.914982454174361e-06\n",
      "대립가설 선택 ; 평균키의 차이는 의미가 있다\n"
     ]
    }
   ],
   "source": [
    "# 독립표본 t감정\n",
    "# 두 집단의 평균을 이용해서 두 집단이 서로 연관성이 있는지를 판단하는 감정방법\n",
    "# 그룹 1과 그룹2 의 편균키를 조사해서 그 차이가 있는지 \n",
    "# 혹은 차이를 무시할 정도인지를 판별 \n",
    "# 귀무가설 : 두 그룹간의 평균키의 차이가 없다\n",
    "# 대립가설 : 두 그룹간의 평균키의 차이는 의미가 있다 \n",
    "\n",
    "#평균값을 가지고 두개의 독립변수가 차이점이있는가 t검정\n",
    "\n",
    "#독립표본 t검정 두집단간의 평균값의 차이가 통계적으로 의미가있는지\n",
    "\n",
    "import numpy as np\n",
    "\n",
    "from scipy import stats #t검정에 대한 함수를 가지고 있다 \n",
    "\n",
    "group1= [170 + np.random.normal(2,1) for _ in range(10)] # 평균이 2 표준편차가 1  _ 는 값을 입력안한다는 뜻\n",
    "group2= [174 + np.random.normal(2,1) for _ in range(10)]\n",
    "\n",
    "display(group1)\n",
    "\n",
    "print(\"gruop1의 평균 : {}\".format(np.mean(group1)))\n",
    "\n",
    "display(group2)\n",
    "\n",
    "print(\"gruop2의 평균 : {}\".format(np.mean(group2)))\n",
    "\n",
    "_,pvalue=stats.ttest_rel(group1,group2) #p벨류로 판단할수있게끔 두개의 독립변수가 차이가 있는지 없는지 \n",
    "\n",
    "# _,pvalue=stats.ttest_ind(group1,group2)\n",
    "\n",
    "print (pvalue)\n",
    "\n",
    "if pvalue < 0.05:\n",
    "    print(\"대립가설 선택 ; 평균키의 차이는 의미가 있다\")\n",
    "else:\n",
    "    print(\"귀무가설 선택 ; 평균키의 차이는 의미가 없다\")"
   ]
  },
  {
   "cell_type": "code",
   "execution_count": 69,
   "metadata": {},
   "outputs": [
    {
     "data": {
      "text/plain": [
       "[66.97557281678758,\n",
       " 65.30755355843328,\n",
       " 59.911126298127506,\n",
       " 57.59376009728945,\n",
       " 63.368475277273035,\n",
       " 59.65599414036102,\n",
       " 63.657056114192926,\n",
       " 56.0721456846547,\n",
       " 61.5688141341029,\n",
       " 65.37498610498014,\n",
       " 69.53624779394373,\n",
       " 56.52839708965036,\n",
       " 62.60935762287377,\n",
       " 55.12235430590161,\n",
       " 69.7912087711828,\n",
       " 58.06337939155181,\n",
       " 58.72838517189785,\n",
       " 54.522721390843216,\n",
       " 61.504018615127656,\n",
       " 67.56315241955389]"
      ]
     },
     "metadata": {},
     "output_type": "display_data"
    },
    {
     "data": {
      "text/plain": [
       "[66.74040039868477,\n",
       " 63.50466184435124,\n",
       " 59.64733086431177,\n",
       " 55.414008559979884,\n",
       " 60.730466083256395,\n",
       " 57.70019024842109,\n",
       " 61.401810346635685,\n",
       " 53.3935503139376,\n",
       " 59.73830910842633,\n",
       " 64.01577189325911,\n",
       " 66.33303443519098,\n",
       " 55.20782261988349,\n",
       " 61.37428601222998,\n",
       " 53.69194868135501,\n",
       " 68.6077875309458,\n",
       " 56.25313187108635,\n",
       " 56.46157139018632,\n",
       " 52.38331756676492,\n",
       " 60.958695143487,\n",
       " 66.11239482866338]"
      ]
     },
     "metadata": {},
     "output_type": "display_data"
    },
    {
     "name": "stdout",
     "output_type": "stream",
     "text": [
      "9.497321478493793e-09\n",
      "대립가설 선택 : 약효과 있다\n"
     ]
    }
   ],
   "source": [
    "#대응표본 t검정 실험효과를 과학적으로 입증하는것\n",
    "# ex) 간기능 강화제 섭취 전과 후의 평균 주량 차이가 있는가?\n",
    "\n",
    "#문제 다이어트약의 효과   유의 확률 = pvalue \n",
    "# 귀무가설: 복용전후 체중의 차이가 없다\n",
    "# 대립가설: 복용전후 체중의 차이가 있다\n",
    "\n",
    "import numpy as np\n",
    "from scipy import stats\n",
    "\n",
    "before = [60 + np.random.normal(0,5) for _ in range(20)]\n",
    "display(before)\n",
    "after = [w - np.random.normal(2,1) for w in before ]\n",
    "display(after)\n",
    "\n",
    "_,pvalue=stats.ttest_rel(before,after)\n",
    "\n",
    "print(pvalue)\n",
    "if pvalue < 0.05:\n",
    "    print(\"대립가설 선택 : 약효과 있다\")\n",
    "else:\n",
    "    print(\"귀무가설 선택 : 약효과 없다\")"
   ]
  },
  {
   "cell_type": "code",
   "execution_count": 71,
   "metadata": {},
   "outputs": [
    {
     "data": {
      "text/plain": [
       "0.9428869175466015"
      ]
     },
     "execution_count": 71,
     "metadata": {},
     "output_type": "execute_result"
    }
   ],
   "source": [
    "#anoba(분산)분석\n",
    "\n",
    "#비교대상이 3개 이상일때 anoba (t검정은 비교대상이 2개일때)\n",
    "\n",
    "\n",
    "from scipy import stats\n",
    "\n",
    "a=[67,45,98,67,34,22]\n",
    "b=[56,48,80,37,32,62]\n",
    "c=[47,57,77,61,31,12]\n",
    "d=[77,65,70,28,45,15]\n",
    "\n",
    "_ , pvalue = stats.f_oneway(a,b,c,d)\n",
    "\n",
    "pvalue\n",
    "\n",
    "# 회기분석(리그레이션?) 종속분석 독립분석 "
   ]
  },
  {
   "cell_type": "code",
   "execution_count": 14,
   "metadata": {},
   "outputs": [
    {
     "ename": "ValueError",
     "evalue": "initial_value must have a shape specified: Tensor(\"Placeholder_26:0\", shape=(?, 3), dtype=float32)",
     "output_type": "error",
     "traceback": [
      "\u001b[1;31m---------------------------------------------------------------------------\u001b[0m",
      "\u001b[1;31mValueError\u001b[0m                                Traceback (most recent call last)",
      "\u001b[1;32m<ipython-input-14-d5bde90e30d0>\u001b[0m in \u001b[0;36m<module>\u001b[1;34m\u001b[0m\n\u001b[0;32m     24\u001b[0m \u001b[1;33m\u001b[0m\u001b[0m\n\u001b[0;32m     25\u001b[0m \u001b[1;33m\u001b[0m\u001b[0m\n\u001b[1;32m---> 26\u001b[1;33m \u001b[0mprint\u001b[0m\u001b[1;33m(\u001b[0m\u001b[0mtf\u001b[0m\u001b[1;33m.\u001b[0m\u001b[0mVariable\u001b[0m\u001b[1;33m(\u001b[0m\u001b[0mx\u001b[0m\u001b[1;33m)\u001b[0m\u001b[1;33m)\u001b[0m\u001b[1;33m\u001b[0m\u001b[1;33m\u001b[0m\u001b[0m\n\u001b[0m\u001b[0;32m     27\u001b[0m \u001b[1;33m\u001b[0m\u001b[0m\n\u001b[0;32m     28\u001b[0m \u001b[1;31m#  print(result)\u001b[0m\u001b[1;33m\u001b[0m\u001b[1;33m\u001b[0m\u001b[1;33m\u001b[0m\u001b[0m\n",
      "\u001b[1;32mC:\\ProgramData\\Anaconda3\\lib\\site-packages\\tensorflow\\python\\ops\\variables.py\u001b[0m in \u001b[0;36m__call__\u001b[1;34m(cls, *args, **kwargs)\u001b[0m\n\u001b[0;32m    181\u001b[0m   \u001b[1;32mdef\u001b[0m \u001b[0m__call__\u001b[0m\u001b[1;33m(\u001b[0m\u001b[0mcls\u001b[0m\u001b[1;33m,\u001b[0m \u001b[1;33m*\u001b[0m\u001b[0margs\u001b[0m\u001b[1;33m,\u001b[0m \u001b[1;33m**\u001b[0m\u001b[0mkwargs\u001b[0m\u001b[1;33m)\u001b[0m\u001b[1;33m:\u001b[0m\u001b[1;33m\u001b[0m\u001b[1;33m\u001b[0m\u001b[0m\n\u001b[0;32m    182\u001b[0m     \u001b[1;32mif\u001b[0m \u001b[0mcls\u001b[0m \u001b[1;32mis\u001b[0m \u001b[0mVariableV1\u001b[0m\u001b[1;33m:\u001b[0m\u001b[1;33m\u001b[0m\u001b[1;33m\u001b[0m\u001b[0m\n\u001b[1;32m--> 183\u001b[1;33m       \u001b[1;32mreturn\u001b[0m \u001b[0mcls\u001b[0m\u001b[1;33m.\u001b[0m\u001b[0m_variable_v1_call\u001b[0m\u001b[1;33m(\u001b[0m\u001b[1;33m*\u001b[0m\u001b[0margs\u001b[0m\u001b[1;33m,\u001b[0m \u001b[1;33m**\u001b[0m\u001b[0mkwargs\u001b[0m\u001b[1;33m)\u001b[0m\u001b[1;33m\u001b[0m\u001b[1;33m\u001b[0m\u001b[0m\n\u001b[0m\u001b[0;32m    184\u001b[0m     \u001b[1;32melif\u001b[0m \u001b[0mcls\u001b[0m \u001b[1;32mis\u001b[0m \u001b[0mVariable\u001b[0m\u001b[1;33m:\u001b[0m\u001b[1;33m\u001b[0m\u001b[1;33m\u001b[0m\u001b[0m\n\u001b[0;32m    185\u001b[0m       \u001b[1;32mreturn\u001b[0m \u001b[0mcls\u001b[0m\u001b[1;33m.\u001b[0m\u001b[0m_variable_v2_call\u001b[0m\u001b[1;33m(\u001b[0m\u001b[1;33m*\u001b[0m\u001b[0margs\u001b[0m\u001b[1;33m,\u001b[0m \u001b[1;33m**\u001b[0m\u001b[0mkwargs\u001b[0m\u001b[1;33m)\u001b[0m\u001b[1;33m\u001b[0m\u001b[1;33m\u001b[0m\u001b[0m\n",
      "\u001b[1;32mC:\\ProgramData\\Anaconda3\\lib\\site-packages\\tensorflow\\python\\ops\\variables.py\u001b[0m in \u001b[0;36m_variable_v1_call\u001b[1;34m(cls, initial_value, trainable, collections, validate_shape, caching_device, name, variable_def, dtype, expected_shape, import_scope, constraint, use_resource, synchronization, aggregation)\u001b[0m\n\u001b[0;32m    144\u001b[0m         \u001b[0muse_resource\u001b[0m\u001b[1;33m=\u001b[0m\u001b[0muse_resource\u001b[0m\u001b[1;33m,\u001b[0m\u001b[1;33m\u001b[0m\u001b[1;33m\u001b[0m\u001b[0m\n\u001b[0;32m    145\u001b[0m         \u001b[0msynchronization\u001b[0m\u001b[1;33m=\u001b[0m\u001b[0msynchronization\u001b[0m\u001b[1;33m,\u001b[0m\u001b[1;33m\u001b[0m\u001b[1;33m\u001b[0m\u001b[0m\n\u001b[1;32m--> 146\u001b[1;33m         aggregation=aggregation)\n\u001b[0m\u001b[0;32m    147\u001b[0m \u001b[1;33m\u001b[0m\u001b[0m\n\u001b[0;32m    148\u001b[0m   def _variable_v2_call(cls,\n",
      "\u001b[1;32mC:\\ProgramData\\Anaconda3\\lib\\site-packages\\tensorflow\\python\\ops\\variables.py\u001b[0m in \u001b[0;36m<lambda>\u001b[1;34m(**kwargs)\u001b[0m\n\u001b[0;32m    123\u001b[0m                         aggregation=VariableAggregation.NONE):\n\u001b[0;32m    124\u001b[0m     \u001b[1;34m\"\"\"Call on Variable class. Useful to force the signature.\"\"\"\u001b[0m\u001b[1;33m\u001b[0m\u001b[1;33m\u001b[0m\u001b[0m\n\u001b[1;32m--> 125\u001b[1;33m     \u001b[0mprevious_getter\u001b[0m \u001b[1;33m=\u001b[0m \u001b[1;32mlambda\u001b[0m \u001b[1;33m**\u001b[0m\u001b[0mkwargs\u001b[0m\u001b[1;33m:\u001b[0m \u001b[0mdefault_variable_creator\u001b[0m\u001b[1;33m(\u001b[0m\u001b[1;32mNone\u001b[0m\u001b[1;33m,\u001b[0m \u001b[1;33m**\u001b[0m\u001b[0mkwargs\u001b[0m\u001b[1;33m)\u001b[0m\u001b[1;33m\u001b[0m\u001b[1;33m\u001b[0m\u001b[0m\n\u001b[0m\u001b[0;32m    126\u001b[0m     \u001b[1;32mfor\u001b[0m \u001b[0mgetter\u001b[0m \u001b[1;32min\u001b[0m \u001b[0mops\u001b[0m\u001b[1;33m.\u001b[0m\u001b[0mget_default_graph\u001b[0m\u001b[1;33m(\u001b[0m\u001b[1;33m)\u001b[0m\u001b[1;33m.\u001b[0m\u001b[0m_variable_creator_stack\u001b[0m\u001b[1;33m:\u001b[0m  \u001b[1;31m# pylint: disable=protected-access\u001b[0m\u001b[1;33m\u001b[0m\u001b[1;33m\u001b[0m\u001b[0m\n\u001b[0;32m    127\u001b[0m       \u001b[0mprevious_getter\u001b[0m \u001b[1;33m=\u001b[0m \u001b[0m_make_getter\u001b[0m\u001b[1;33m(\u001b[0m\u001b[0mgetter\u001b[0m\u001b[1;33m,\u001b[0m \u001b[0mprevious_getter\u001b[0m\u001b[1;33m)\u001b[0m\u001b[1;33m\u001b[0m\u001b[1;33m\u001b[0m\u001b[0m\n",
      "\u001b[1;32mC:\\ProgramData\\Anaconda3\\lib\\site-packages\\tensorflow\\python\\ops\\variable_scope.py\u001b[0m in \u001b[0;36mdefault_variable_creator\u001b[1;34m(next_creator, **kwargs)\u001b[0m\n\u001b[0;32m   2442\u001b[0m         \u001b[0mcaching_device\u001b[0m\u001b[1;33m=\u001b[0m\u001b[0mcaching_device\u001b[0m\u001b[1;33m,\u001b[0m \u001b[0mname\u001b[0m\u001b[1;33m=\u001b[0m\u001b[0mname\u001b[0m\u001b[1;33m,\u001b[0m \u001b[0mdtype\u001b[0m\u001b[1;33m=\u001b[0m\u001b[0mdtype\u001b[0m\u001b[1;33m,\u001b[0m\u001b[1;33m\u001b[0m\u001b[1;33m\u001b[0m\u001b[0m\n\u001b[0;32m   2443\u001b[0m         \u001b[0mconstraint\u001b[0m\u001b[1;33m=\u001b[0m\u001b[0mconstraint\u001b[0m\u001b[1;33m,\u001b[0m \u001b[0mvariable_def\u001b[0m\u001b[1;33m=\u001b[0m\u001b[0mvariable_def\u001b[0m\u001b[1;33m,\u001b[0m\u001b[1;33m\u001b[0m\u001b[1;33m\u001b[0m\u001b[0m\n\u001b[1;32m-> 2444\u001b[1;33m         expected_shape=expected_shape, import_scope=import_scope)\n\u001b[0m\u001b[0;32m   2445\u001b[0m \u001b[1;33m\u001b[0m\u001b[0m\n\u001b[0;32m   2446\u001b[0m \u001b[1;33m\u001b[0m\u001b[0m\n",
      "\u001b[1;32mC:\\ProgramData\\Anaconda3\\lib\\site-packages\\tensorflow\\python\\ops\\variables.py\u001b[0m in \u001b[0;36m__call__\u001b[1;34m(cls, *args, **kwargs)\u001b[0m\n\u001b[0;32m    185\u001b[0m       \u001b[1;32mreturn\u001b[0m \u001b[0mcls\u001b[0m\u001b[1;33m.\u001b[0m\u001b[0m_variable_v2_call\u001b[0m\u001b[1;33m(\u001b[0m\u001b[1;33m*\u001b[0m\u001b[0margs\u001b[0m\u001b[1;33m,\u001b[0m \u001b[1;33m**\u001b[0m\u001b[0mkwargs\u001b[0m\u001b[1;33m)\u001b[0m\u001b[1;33m\u001b[0m\u001b[1;33m\u001b[0m\u001b[0m\n\u001b[0;32m    186\u001b[0m     \u001b[1;32melse\u001b[0m\u001b[1;33m:\u001b[0m\u001b[1;33m\u001b[0m\u001b[1;33m\u001b[0m\u001b[0m\n\u001b[1;32m--> 187\u001b[1;33m       \u001b[1;32mreturn\u001b[0m \u001b[0msuper\u001b[0m\u001b[1;33m(\u001b[0m\u001b[0mVariableMetaclass\u001b[0m\u001b[1;33m,\u001b[0m \u001b[0mcls\u001b[0m\u001b[1;33m)\u001b[0m\u001b[1;33m.\u001b[0m\u001b[0m__call__\u001b[0m\u001b[1;33m(\u001b[0m\u001b[1;33m*\u001b[0m\u001b[0margs\u001b[0m\u001b[1;33m,\u001b[0m \u001b[1;33m**\u001b[0m\u001b[0mkwargs\u001b[0m\u001b[1;33m)\u001b[0m\u001b[1;33m\u001b[0m\u001b[1;33m\u001b[0m\u001b[0m\n\u001b[0m\u001b[0;32m    188\u001b[0m \u001b[1;33m\u001b[0m\u001b[0m\n\u001b[0;32m    189\u001b[0m \u001b[1;33m\u001b[0m\u001b[0m\n",
      "\u001b[1;32mC:\\ProgramData\\Anaconda3\\lib\\site-packages\\tensorflow\\python\\ops\\variables.py\u001b[0m in \u001b[0;36m__init__\u001b[1;34m(self, initial_value, trainable, collections, validate_shape, caching_device, name, variable_def, dtype, expected_shape, import_scope, constraint)\u001b[0m\n\u001b[0;32m   1327\u001b[0m           \u001b[0mdtype\u001b[0m\u001b[1;33m=\u001b[0m\u001b[0mdtype\u001b[0m\u001b[1;33m,\u001b[0m\u001b[1;33m\u001b[0m\u001b[1;33m\u001b[0m\u001b[0m\n\u001b[0;32m   1328\u001b[0m           \u001b[0mexpected_shape\u001b[0m\u001b[1;33m=\u001b[0m\u001b[0mexpected_shape\u001b[0m\u001b[1;33m,\u001b[0m\u001b[1;33m\u001b[0m\u001b[1;33m\u001b[0m\u001b[0m\n\u001b[1;32m-> 1329\u001b[1;33m           constraint=constraint)\n\u001b[0m\u001b[0;32m   1330\u001b[0m \u001b[1;33m\u001b[0m\u001b[0m\n\u001b[0;32m   1331\u001b[0m   \u001b[1;32mdef\u001b[0m \u001b[0m__repr__\u001b[0m\u001b[1;33m(\u001b[0m\u001b[0mself\u001b[0m\u001b[1;33m)\u001b[0m\u001b[1;33m:\u001b[0m\u001b[1;33m\u001b[0m\u001b[1;33m\u001b[0m\u001b[0m\n",
      "\u001b[1;32mC:\\ProgramData\\Anaconda3\\lib\\site-packages\\tensorflow\\python\\ops\\variables.py\u001b[0m in \u001b[0;36m_init_from_args\u001b[1;34m(self, initial_value, trainable, collections, validate_shape, caching_device, name, dtype, expected_shape, constraint)\u001b[0m\n\u001b[0;32m   1470\u001b[0m           \u001b[1;32mif\u001b[0m \u001b[1;32mnot\u001b[0m \u001b[0minitial_value_shape\u001b[0m\u001b[1;33m.\u001b[0m\u001b[0mis_fully_defined\u001b[0m\u001b[1;33m(\u001b[0m\u001b[1;33m)\u001b[0m\u001b[1;33m:\u001b[0m\u001b[1;33m\u001b[0m\u001b[1;33m\u001b[0m\u001b[0m\n\u001b[0;32m   1471\u001b[0m             raise ValueError(\"initial_value must have a shape specified: %s\" %\n\u001b[1;32m-> 1472\u001b[1;33m                              self._initial_value)\n\u001b[0m\u001b[0;32m   1473\u001b[0m \u001b[1;33m\u001b[0m\u001b[0m\n\u001b[0;32m   1474\u001b[0m         \u001b[1;31m# If 'initial_value' makes use of other variables, make sure we don't\u001b[0m\u001b[1;33m\u001b[0m\u001b[1;33m\u001b[0m\u001b[1;33m\u001b[0m\u001b[0m\n",
      "\u001b[1;31mValueError\u001b[0m: initial_value must have a shape specified: Tensor(\"Placeholder_26:0\", shape=(?, 3), dtype=float32)"
     ]
    }
   ],
   "source": [
    "# 텐서플로 구글에서만든 머신러닝을 위한 라이브러리?\n",
    "%matplotlib inline\n",
    "\n",
    "import numpy as np\n",
    "import pandas as pd\n",
    "import matplotlib\n",
    "import matplotlib.pyplot as plt\n",
    "from scipy import stats\n",
    "\n",
    "\n",
    "x_data=[[73,80,75],\n",
    "        [93,86,93],\n",
    "        [89,91,90],\n",
    "        [96,98,100],\n",
    "        [73,66,70],\n",
    "        ]\n",
    "\n",
    "y_data = [[152],[185],[180],[196],[142]]\n",
    "\n",
    "# 데이터가 들어오는 라인수는 속성보다 덜 중요해서 속성이 3개라 \n",
    "\n",
    "x= tf.placeholder(shape=[None,3],dtype=tf.float32)\n",
    "y= tf.placeholder(shape=[None,1],dtype=tf.float32)\n",
    "\n",
    "\n",
    "\n",
    "\n",
    "#  print(result)\n",
    "#  w=result[0]\n",
    "#  b=result[1]\n",
    "\n",
    "# h=w*x+b\n",
    "\n",
    "# plt.scatter(x,y)\n",
    "\n",
    "# plt.plot(x,h,\"r\")\n",
    "\n",
    "# plt.show()\n",
    "\n",
    "\n",
    "\n",
    "\n",
    "#form ten\n",
    "\n",
    "#conda install tensorflow"
   ]
  },
  {
   "cell_type": "code",
   "execution_count": null,
   "metadata": {},
   "outputs": [],
   "source": []
  },
  {
   "cell_type": "code",
   "execution_count": null,
   "metadata": {},
   "outputs": [],
   "source": []
  },
  {
   "cell_type": "code",
   "execution_count": null,
   "metadata": {},
   "outputs": [],
   "source": []
  },
  {
   "cell_type": "code",
   "execution_count": null,
   "metadata": {},
   "outputs": [],
   "source": []
  },
  {
   "cell_type": "code",
   "execution_count": null,
   "metadata": {},
   "outputs": [],
   "source": []
  },
  {
   "cell_type": "code",
   "execution_count": null,
   "metadata": {},
   "outputs": [],
   "source": []
  }
 ],
 "metadata": {
  "kernelspec": {
   "display_name": "data_env",
   "language": "python",
   "name": "data_env"
  },
  "language_info": {
   "codemirror_mode": {
    "name": "ipython",
    "version": 3
   },
   "file_extension": ".py",
   "mimetype": "text/x-python",
   "name": "python",
   "nbconvert_exporter": "python",
   "pygments_lexer": "ipython3",
   "version": "3.6.8"
  }
 },
 "nbformat": 4,
 "nbformat_minor": 2
}
