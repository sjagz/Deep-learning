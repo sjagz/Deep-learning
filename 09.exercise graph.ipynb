{
 "cells": [
  {
   "cell_type": "code",
   "execution_count": 1,
   "metadata": {},
   "outputs": [
    {
     "name": "stdout",
     "output_type": "stream",
     "text": [
      "============\n",
      "height    188\n",
      "weight     71\n",
      "Name: 0, dtype: int64\n",
      "[[0.85       0.8       ]\n",
      " [0.5125     0.73333333]\n",
      " [0.725      0.37777778]\n",
      " ...\n",
      " [0.375      0.28888889]\n",
      " [0.8625     0.75555556]\n",
      " [0.275      0.13333333]]\n",
      "============\n",
      "[[0.85  ]\n",
      " [0.5125]\n",
      " [0.725 ]\n",
      " ...\n",
      " [0.375 ]\n",
      " [0.8625]\n",
      " [0.275 ]]\n",
      "============\n",
      "[[0.8       ]\n",
      " [0.73333333]\n",
      " [0.37777778]\n",
      " ...\n",
      " [0.28888889]\n",
      " [0.75555556]\n",
      " [0.13333333]]\n",
      "[[0.]\n",
      " [0.]\n",
      " [1.]\n",
      " ...\n",
      " [0.]\n",
      " [0.]\n",
      " [0.]]\n"
     ]
    },
    {
     "data": {
      "text/plain": [
       "<Figure size 640x480 with 1 Axes>"
      ]
     },
     "metadata": {},
     "output_type": "display_data"
    }
   ],
   "source": [
    "\n",
    "import tensorflow as tf\n",
    "import numpy as np\n",
    "import pandas as pd\n",
    "import warnings\n",
    "from sklearn.preprocessing import MinMaxScaler\n",
    "import matplotlib.pyplot as plt\n",
    "import numpy as np\n",
    "import matplotlib.pyplot as plt\n",
    "from mpl_toolkits.mplot3d import Axes3D\n",
    "from matplotlib import cm\n",
    "\n",
    "\n",
    "\n",
    "\n",
    "warnings.filterwarnings(action=\"ignore\")\n",
    "\n",
    "\n",
    "data=pd.read_csv(\"./data/bmi/bmi.csv\" , sep=\",\" , skiprows = 3) #sep 는 csv가 ,로 구분되어있어서 defalt 값??\n",
    "       #결치값 제거\n",
    "\n",
    "data = data.dropna(how=\"any\")\n",
    "\n",
    "df_x = data[[\"height\",\"weight\"]]\n",
    "df_y = data[\"label\"]\n",
    "df_x2=df_x\n",
    "\n",
    "\n",
    "\n",
    "# df_y 를 분류해야함 100  010 001 , 0 1 2\n",
    "\n",
    "y_data=tf.one_hot(df_y , 3)\n",
    "\n",
    "sess=tf.Session()\n",
    "y_data = sess.run(y_data)\n",
    "\n",
    "#print(sess.run(y_data)) = minmax 한거랑 똑같\n",
    "scaler= MinMaxScaler()\n",
    "x_data = scaler.fit_transform(df_x.values)\n",
    "\n",
    "print(\"============\")\n",
    "print(df_x.loc[0])\n",
    "print(x_data)\n",
    "\n",
    "print(\"============\")\n",
    "\n",
    "print(x_data[:,:1])  # =>x축\n",
    "\n",
    "print(\"============\")\n",
    "print(x_data[:,1:2])  #=>y 축\n",
    "print(y_data[:,:1])  #=>z축\n",
    "\n",
    "\n",
    "x =x_data[:,:1]\n",
    "y =x_data[:,1:2]\n",
    "\n",
    "plt.scatter(x, y)\n",
    "plt.show()\n",
    "\n",
    "\n",
    "\n",
    "\n"
   ]
  },
  {
   "cell_type": "code",
   "execution_count": 17,
   "metadata": {},
   "outputs": [
    {
     "name": "stdout",
     "output_type": "stream",
     "text": [
      "1======\n",
      "1\n",
      "[[188 161 178 ... 150 189 142]]\n"
     ]
    },
    {
     "data": {
      "image/png": "[encoded data removed]",
      "text/plain": [
       "<Figure size 432x288 with 1 Axes>"
      ]
     },
     "metadata": {
      "needs_background": "light"
     },
     "output_type": "display_data"
    },
    {
     "name": "stdout",
     "output_type": "stream",
     "text": [
      "[[0. 1. 0.]\n",
      " [0. 0. 1.]\n",
      " [1. 0. 0.]\n",
      " ...\n",
      " [0. 1. 0.]\n",
      " [0. 1. 0.]\n",
      " [0. 1. 0.]]\n",
      "============\n",
      "height    188\n",
      "weight     71\n",
      "Name: 0, dtype: int64\n",
      "[[0.85       0.8       ]\n",
      " [0.5125     0.73333333]\n",
      " [0.725      0.37777778]\n",
      " ...\n",
      " [0.375      0.28888889]\n",
      " [0.8625     0.75555556]\n",
      " [0.275      0.13333333]]\n",
      "============\n",
      "[[0.85  ]\n",
      " [0.5125]\n",
      " [0.725 ]\n",
      " ...\n",
      " [0.375 ]\n",
      " [0.8625]\n",
      " [0.275 ]]\n",
      "============\n",
      "[[0.8       ]\n",
      " [0.73333333]\n",
      " [0.37777778]\n",
      " ...\n",
      " [0.28888889]\n",
      " [0.75555556]\n",
      " [0.13333333]]\n",
      "[[0.]\n",
      " [0.]\n",
      " [1.]\n",
      " ...\n",
      " [0.]\n",
      " [0.]\n",
      " [0.]]\n"
     ]
    }
   ],
   "source": [
    "\n",
    "import tensorflow as tf\n",
    "import numpy as np\n",
    "import pandas as pd\n",
    "import warnings\n",
    "from sklearn.preprocessing import MinMaxScaler\n",
    "import matplotlib.pyplot as plt\n",
    "import numpy as np\n",
    "import matplotlib.pyplot as plt\n",
    "from mpl_toolkits.mplot3d import Axes3D\n",
    "from matplotlib import cm\n",
    "\n",
    "\n",
    "\n",
    "warnings.filterwarnings(action=\"ignore\")\n",
    "\n",
    "\n",
    "data=pd.read_csv(\"./data/bmi/bmi.csv\" , sep=\",\" , skiprows = 3) #sep 는 csv가 ,로 구분되어있어서 defalt 값??\n",
    "       #결치값 제거\n",
    "\n",
    "data = data.dropna(how=\"any\")\n",
    "\n",
    "df_x = data[[\"height\",\"weight\"]]\n",
    "df_y = data[\"label\"]\n",
    "df_x2=df_x\n",
    "\n",
    "np1=np.array([df_x[\"height\"]])\n",
    "np2=np.array([df_x[\"weight\"]])\n",
    "\n",
    "print(\"1======\")\n",
    "print(len(np1))\n",
    "\n",
    "\n",
    "print(np1)\n",
    "x =np1\n",
    "y =np2\n",
    "\n",
    "plt.scatter(x, y)\n",
    "plt.show()\n",
    "\n",
    "\n",
    "\n",
    "# df_y 를 분류해야함 100  010 001 , 0 1 2\n",
    "\n",
    "y_data=tf.one_hot(df_y , 3)\n",
    "\n",
    "sess=tf.Session()\n",
    "y_data = sess.run(y_data)\n",
    "\n",
    "print(y_data)\n",
    "\n",
    "# x=np1\n",
    "# y=np2\n",
    "# #z=\n",
    "\n",
    "\n",
    "# fig = plt.figure()\n",
    "# ax = fig.gca(projection='3d')\n",
    "# ax.plot_trisurf(x, y, z, cmap=cm.jet, linewidth=0.2)\n",
    "# plt.show()\n",
    "\n",
    "\n",
    "\n",
    "\n",
    "#print(sess.run(y_data)) = minmax 한거랑 똑같\n",
    "scaler= MinMaxScaler()\n",
    "x_data = scaler.fit_transform(df_x.values)\n",
    "\n",
    "print(\"============\")\n",
    "print(df_x.loc[0])\n",
    "print(x_data)\n",
    "\n",
    "print(\"============\")\n",
    "\n",
    "print(x_data[:,:1])  # =>x축\n",
    "\n",
    "print(\"============\")\n",
    "print(x_data[:,1:2])  #=>y 축\n",
    "print(y_data[:,:1])  #=>z축\n",
    "\n"
   ]
  },
  {
   "cell_type": "code",
   "execution_count": 9,
   "metadata": {},
   "outputs": [
    {
     "data": {
      "image/png": "[encoded data removed]",
      "text/plain": [
       "<Figure size 432x288 with 1 Axes>"
      ]
     },
     "metadata": {
      "needs_background": "light"
     },
     "output_type": "display_data"
    }
   ],
   "source": [
    "\n",
    "import tensorflow as tf\n",
    "import numpy as np\n",
    "import pandas as pd\n",
    "import warnings\n",
    "from sklearn.preprocessing import MinMaxScaler\n",
    "import matplotlib.pyplot as plt\n",
    "import numpy as np\n",
    "import matplotlib.pyplot as plt\n",
    "from mpl_toolkits.mplot3d import Axes3D\n",
    "from matplotlib import cm\n",
    "\n",
    "\n",
    "\n",
    "warnings.filterwarnings(action=\"ignore\")\n",
    "\n",
    "\n",
    "data=pd.read_csv(\"./data/bmi/bmi.csv\" , sep=\",\" , skiprows = 3) #sep 는 csv가 ,로 구분되어있어서 defalt 값??\n",
    "       #결치값 제거\n",
    "\n",
    "data = data.dropna(how=\"any\")\n",
    "\n",
    "df_x = data[[\"height\",\"weight\"]]\n",
    "df_y = data[\"label\"]\n",
    "df_x2=df_x\n",
    "\n",
    "plt.hist(data[\"height\"],rwidth=0.95)\n",
    "plt.show()\n",
    "\n"
   ]
  },
  {
   "cell_type": "code",
   "execution_count": null,
   "metadata": {},
   "outputs": [],
   "source": []
  },
  {
   "cell_type": "code",
   "execution_count": null,
   "metadata": {},
   "outputs": [],
   "source": []
  },
  {
   "cell_type": "code",
   "execution_count": null,
   "metadata": {},
   "outputs": [],
   "source": []
  },
  {
   "cell_type": "code",
   "execution_count": null,
   "metadata": {},
   "outputs": [],
   "source": []
  },
  {
   "cell_type": "code",
   "execution_count": 5,
   "metadata": {},
   "outputs": [
    {
     "name": "stdout",
     "output_type": "stream",
     "text": [
      "Extracting ./data/mnist\\train-images-idx3-ubyte.gz\n",
      "Extracting ./data/mnist\\train-labels-idx1-ubyte.gz\n",
      "Extracting ./data/mnist\\t10k-images-idx3-ubyte.gz\n",
      "Extracting ./data/mnist\\t10k-labels-idx1-ubyte.gz\n",
      "============\n",
      "55000\n",
      "<bound method DataSet.next_batch of <tensorflow.contrib.learn.python.learn.datasets.mnist.DataSet object at 0x00000000157C4CC0>>\n"
     ]
    },
    {
     "data": {
      "image/png": "[encoded data removed]",
      "text/plain": [
       "<Figure size 432x288 with 1 Axes>"
      ]
     },
     "metadata": {
      "needs_background": "light"
     },
     "output_type": "display_data"
    }
   ],
   "source": [
    "from tensorflow.examples.tutorials.mnist import input_data\n",
    "\n",
    "import tensorflow as tf\n",
    "import matplotlib\n",
    "import matplotlib.pyplot as plt\n",
    "import numpy as np\n",
    "\n",
    "\n",
    "#데이터 로딩\n",
    "\n",
    "mnist = input_data.read_data_sets(\"./data/mnist\", one_hot=True) #학습용으로 나온 데이터고 그냥 읽어내면됨\n",
    "#원핫 처리없이 기본 데이터가 원핫으로 처리되어서 나옴 즉 데이터 전처리가 불필요\n",
    "\n",
    "#mnist.train.num_examples\n",
    "\n",
    "plt.imshow(mnist.train.images[0].reshape(28,28),cmap=\"Greys\",interpolation=\"nearest\"  )\n",
    "\n",
    "#interpolation 뭔뜻?  2차배열로 바꿈 원래 이미지형태로\n",
    "\n",
    "\n",
    "sess=tf.Session()\n",
    "#sess.run(tf.argmax(mnist.train.labels[0]) #1차 배열을 2차배열로 만들어야 argmax 됨\n",
    "\n",
    "\n",
    "\n",
    "\n",
    "#2.placeholder\n",
    "\n",
    "X=tf.placeholder(shape=[None,784],dtype=tf.float32 )\n",
    "Y=tf.placeholder(shape=[None,10],dtype=tf.float32 )\n",
    "\n",
    "\n",
    "#3.weight\n",
    "\n",
    "W=tf.Variable(tf.random_normal([784,10]), name=\"weight\" )\n",
    "b=tf.Variable(tf.random_normal([10]), name=\"bias\"  )\n",
    "\n",
    "\n",
    "logit=tf.matmul(X,W)+b\n",
    "H=tf.nn.softmax(logit)\n",
    "\n",
    "\n",
    "cost = tf.reduce_mean(tf.nn.softmax_cross_entropy_with_logits_v2( logits=logit , labels=Y ))\n",
    "\n",
    "train = tf.train.GradientDescentOptimizer(learning_rate=1).minimize(cost)\n",
    "\n",
    "sess = tf.Session()\n",
    "\n",
    "sess.run(tf.global_variables_initializer())\n",
    "\n",
    "batch_size=100\n",
    "train_epoch=30\n",
    "\n",
    "print(\"============\")\n",
    "print(mnist.train.num_examples)\n",
    "print(mnist.train.next_batch)\n",
    "\n"
   ]
  },
  {
   "cell_type": "code",
   "execution_count": null,
   "metadata": {},
   "outputs": [],
   "source": []
  },
  {
   "cell_type": "code",
   "execution_count": null,
   "metadata": {},
   "outputs": [],
   "source": []
  },
  {
   "cell_type": "code",
   "execution_count": null,
   "metadata": {},
   "outputs": [],
   "source": []
  },
  {
   "cell_type": "code",
   "execution_count": null,
   "metadata": {},
   "outputs": [],
   "source": []
  },
  {
   "cell_type": "code",
   "execution_count": null,
   "metadata": {},
   "outputs": [],
   "source": []
  }
 ],
 "metadata": {
  "kernelspec": {
   "display_name": "data_env",
   "language": "python",
   "name": "data_env"
  },
  "language_info": {
   "codemirror_mode": {
    "name": "ipython",
    "version": 3
   },
   "file_extension": ".py",
   "mimetype": "text/x-python",
   "name": "python",
   "nbconvert_exporter": "python",
   "pygments_lexer": "ipython3",
   "version": "3.6.8"
  }
 },
 "nbformat": 4,
 "nbformat_minor": 2
}
