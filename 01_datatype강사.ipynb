{
 "cells": [
  {
   "cell_type": "code",
   "execution_count": 1,
   "metadata": {},
   "outputs": [],
   "source": [
    "# python에서 일반적으로 얘기하는 data type\n",
    "# 1. 숫자형 ( number )\n",
    "# 2. 문자열 ( string )\n",
    "# 3. 리스트 ( List ) => Java ArrayList\n",
    "# 4. 튜플 ( tuple ) => Java X\n",
    "# 5. 딕셔너리 ( dictionary ) => Java Map\n",
    "# 6. 집합 ( Set ) => Java Set\n",
    "# 7. 논리형 ( bool ) => True, False\n",
    "# 8. 날짜 (date) "
   ]
  },
  {
   "cell_type": "code",
   "execution_count": 8,
   "metadata": {},
   "outputs": [
    {
     "name": "stdout",
     "output_type": "stream",
     "text": [
      "0.75\n",
      "32\n",
      "1\n",
      "3\n"
     ]
    }
   ],
   "source": [
    "# 1. 숫자형 ( number )\n",
    "# 정수, 실수, 복소수, 8진수, 16진수\n",
    "a = 100  # 정수\n",
    "b = 3.1415926535E3   # 실수\n",
    "c = 1 + 2j   # 복소수\n",
    "d = 0o34     # 8진수\n",
    "e = 0xAA     # 16진수\n",
    "\n",
    "div = 3 / 4   # python 2.x => 0\n",
    "print(div)    # python 3.x => 0.75\n",
    "\n",
    "# 제곱표현\n",
    "result = 2 ** 5\n",
    "print(result)\n",
    "\n",
    "# 나머지 연산\n",
    "result = 10 % 3\n",
    "print(result)\n",
    "\n",
    "# 나눗셈 수행 후 몫만 취하는 연산\n",
    "result = 10 // 3\n",
    "print(result)"
   ]
  },
  {
   "cell_type": "code",
   "execution_count": 11,
   "metadata": {},
   "outputs": [
    {
     "name": "stdout",
     "output_type": "stream",
     "text": [
      "\n",
      "Hello\n",
      "World\n",
      "여러줄에 걸치 문자열입니다.\n",
      "\n"
     ]
    }
   ],
   "source": [
    "# 2. 문자열 ( string )\n",
    "a = \"Hello World\"\n",
    "b = 'Hello World'\n",
    "c = \"Hello\\nWorld\" # Java style ( 개행문자를 이용 )\n",
    "d = \"\"\"Hello\n",
    "World\n",
    "여러줄에 걸치 문자열입니다.\n",
    "\"\"\"\n",
    "print(d)"
   ]
  },
  {
   "cell_type": "code",
   "execution_count": 14,
   "metadata": {},
   "outputs": [
    {
     "name": "stdout",
     "output_type": "stream",
     "text": [
      "this is a sample Text\n",
      "this is a100\n"
     ]
    }
   ],
   "source": [
    "# 일반적인 문자열의 연결은 \"+\" 기호를 이용한다.\n",
    "first = \"this is a\"\n",
    "middle = \" sample\"\n",
    "last = \" Text\"\n",
    "print(first + middle + last)\n",
    "\n",
    "a = 100\n",
    "#result = first + a  # 문자열과 숫자를 \"+\" 할수 없다.\n",
    "result = first + str(a)  # str() : 문자열로 변환\n",
    "print(result)"
   ]
  },
  {
   "cell_type": "code",
   "execution_count": 20,
   "metadata": {},
   "outputs": [
    {
     "name": "stdout",
     "output_type": "stream",
     "text": [
      "pythonpythonpython\n",
      "T\n",
      "e\n",
      "Talk is a cheap. Show me the Code\n",
      "Talk is a cheap. Show me the Code\n"
     ]
    }
   ],
   "source": [
    "# 문자열에 대한 \"*\" 연산\n",
    "text = \"python\"\n",
    "result = text * 3\n",
    "print(result)\n",
    "\n",
    "# 문자열 indexing\n",
    "str = \"Talk is a cheap. Show me the Code\"\n",
    "print(str[0])   # 0번째 index의 값을 알아오는것\n",
    "print(str[-1])  # index에 음수가 들어오면 뒤에서부터\n",
    "                # indexing\n",
    "    \n",
    "# 문자열 slicing( 문자열 자르기 )    \n",
    "str = \"Talk is a cheap. Show me the Code\"\n",
    "result = str[0:4]   # [idx1:idx2] \n",
    "                    # idx1 : inclusive(포함)\n",
    "                    # idx2 : exclusive(불포함)\n",
    "result = str[5:]    # idx2가 없으면 끝까지.\n",
    "result = str[:10]   # idx1가 없으면 처음부터\n",
    "result = str[:]     # 처음부터 끝까지 slicing\n",
    "print(result)        "
   ]
  },
  {
   "cell_type": "code",
   "execution_count": 23,
   "metadata": {},
   "outputs": [
    {
     "name": "stdout",
     "output_type": "stream",
     "text": [
      "True\n",
      "False\n",
      "True\n"
     ]
    }
   ],
   "source": [
    "# in 연산자 \n",
    "str = \"Talk is a cheap. Show me the Code\"\n",
    "\n",
    "print(\"cheap\" in str)   # True\n",
    "print(\"Cheap\" in str)   # False\n",
    "print(\"Cheap\" not in str)   # True"
   ]
  },
  {
   "cell_type": "code",
   "execution_count": 35,
   "metadata": {},
   "outputs": [
    {
     "name": "stdout",
     "output_type": "stream",
     "text": [
      "원주율은 3.142입니다.\n"
     ]
    }
   ],
   "source": [
    "# 문자열 formatting ( %d , %f, %s )\n",
    "amount = 10\n",
    "str = \"나는 사과 %d개가 있어요\" %amount # %d : 정수\n",
    "str = \"나는 사과 %s개가 있어요\" %\"다섯\" # %s : 문자열\n",
    "\n",
    "str = \"나는 사과 %d개, 참외%d개 있어요\" \\\n",
    "%(3,5) \n",
    "\n",
    "# 만약 % 문자를 그대로 출력하려면 %% 사용\n",
    "str = \"공장 가동률은 %d%%입니다.\" %95  \n",
    "\n",
    "# %숫자d 의 숫자는 자리의 개수 \n",
    "# 숫자가 양수면 오른쪽 정렬, 음수면 왼쪽 정렬\n",
    "str = \"나는 사과 %10d개가 있어요\" %10\n",
    "\n",
    "str = \"원주율은 %.3f입니다.\" %3.1415926535 # 반올림처리\n",
    "print(str)"
   ]
  },
  {
   "cell_type": "code",
   "execution_count": 56,
   "metadata": {},
   "outputs": [
    {
     "name": "stdout",
     "output_type": "stream",
     "text": [
      "    HELLO    WORLD    \n",
      "    hello    world    \n",
      "Hello    World\n"
     ]
    }
   ],
   "source": [
    "# 문자열 함수\n",
    "str = \"hello\"\n",
    "#print(type(str))  # str의 데이터타입을 출력 : type()\n",
    "# 내장함수 중 dir() : 객체가 가지고 있는 property와\n",
    "# method를 리스트로 리턴\n",
    "#print(dir(str))\n",
    "\n",
    "str = \"cocacola\"\n",
    "result = len(str)     # 인자로 들어오는 것의 개수를 count\n",
    "result = str.count(\"co\")  # 인자로 들어온 문자열이\n",
    "                          # 몇개 있는지를 count\n",
    "result = str.find(\"ca\")  #  인자로 들어온 문자열이\n",
    "                        # 맨 처음 나타나는 위치(index)\n",
    "                        # 찾지 못하면 -1 return\n",
    "result = str.index(\"ca\") # find()와 동일한데\n",
    "                         # 찾지 못하면 error 발생\n",
    "    \n",
    "a = \"-\"\n",
    "b = \"abcdef\" # \"abcdef\" => a-b-c-d-e-f\n",
    "result = a.join(b)\n",
    "\n",
    "str = \"    Hello    World    \"\n",
    "print(str.upper())   # 문자열 대문자로 변환\n",
    "print(str.lower())   # 문자열 소문자로 변환\n",
    "print(str.strip())   # 문자열의 양쪽끝 공백을 제거"
   ]
  },
  {
   "cell_type": "code",
   "execution_count": 61,
   "metadata": {},
   "outputs": [
    {
     "name": "stdout",
     "output_type": "stream",
     "text": [
      "Show me the Money\n",
      "['Show', 'me', 'the', 'Code']\n",
      "['a', 'b', 'c', 'd', 'e']\n"
     ]
    }
   ],
   "source": [
    "# 문자열 함수\n",
    "str = \"Show me the Code\"\n",
    "# 문자열은 기본적으로 immutable(불변의) 특성이 있어요\n",
    "# 함수를 적용해도 원본 문자열은 변하지 않아요\n",
    "result = str.replace(\"Code\",\"Money\")\n",
    "print(result)\n",
    "\n",
    "str = \"Show me the Code\"\n",
    "result = str.split() # list로 결과 return\n",
    "print(result)\n",
    "\n",
    "str = \"a::b::c::d::e\"\n",
    "result = str.split(\"::\") # list로 결과 return\n",
    "print(result)"
   ]
  },
  {
   "cell_type": "code",
   "execution_count": 1,
   "metadata": {
    "scrolled": true
   },
   "outputs": [
    {
     "name": "stdout",
     "output_type": "stream",
     "text": [
      "1,234,567,899\n",
      "87.36%\n"
     ]
    }
   ],
   "source": [
    "# python에서 일반적으로 사용되는 문자열\n",
    "# formatting method\n",
    "str = \"나는 사과{}개 있어요!!\".format(5)\n",
    "\n",
    "str = \"나는 사과{}개, 바나나{}개 있어요!!\".format(5,3)\n",
    "\n",
    "str = \"나는 사과{num1}개, 바나나{num2}개 있어요!!\"\\\n",
    ".format(num2=5,num1=3)\n",
    "\n",
    "str = \"원주율은 {0:0.3f}입니다.\".format(3.141592)\n",
    "\n",
    "# 천단위마다 \",\"출력\n",
    "num = 1234567899\n",
    "str = \"{0:,}\".format(num)\n",
    "print(str)\n",
    "\n",
    "# 백분률 처리 ( 반올림 처리되요 )\n",
    "num = 0.87356\n",
    "str = \"{0:.2%}\".format(num)\n",
    "print(str)"
   ]
  },
  {
   "cell_type": "code",
   "execution_count": 16,
   "metadata": {},
   "outputs": [
    {
     "name": "stdout",
     "output_type": "stream",
     "text": [
      "<class 'list'>\n",
      "<class 'int'>\n",
      "[1]\n",
      "!!\n",
      "[1, 4, 7]\n"
     ]
    }
   ],
   "source": [
    "# python의 자료구조\n",
    "# list ( 기본 python에는 배열이 없어요!! )\n",
    "# Java의 ArrayList와 상당히 유사\n",
    "# 임의의 객체를 순서대로 저장하는 집합 자료형\n",
    "# 표현방법은 [ ] 를 이용 ( 대괄호 )\n",
    "my_list = list()  # list() 내장함수를 이용해서 list 생성\n",
    "print(type(my_list)) # list의 data type을 확인\n",
    "my_list = [1,2,3,4]\n",
    "my_list = [1,3.14,\"Hello\",True] # list의 요소는 다른 데이터 타입을\n",
    "                                # 사용할 수 있어요\n",
    "my_list = [1,2,[\"Show\",\"me\",\"the\",\"money!!\"],3.14,True]    \n",
    "                                # list안에 list가 올 수 있어요!\n",
    "    \n",
    "# list에 대해서 indexing을 할 수 있어요    \n",
    "print(type(my_list[0])) # 1이 출력 , type => class int\n",
    "# list에 대해서 slicing을 할 수 있어요    \n",
    "print(my_list[0:1])     # list 형식으로 slicing되요!\n",
    "# !! 두개만 출력하려고 해요!! 어떻게 하면 될까요?\n",
    "print(my_list[2][3][-2:])\n",
    "# list와 같이 많이 사용되는 내장 함수가 하나 있어요\n",
    "# range()\n",
    "my_range = range(10)   # 0부터 9까지 1씩 증가하는 range\n",
    "my_range = range(1,10) # 1부터 9까지 1씩 증가하는 range\n",
    "my_range = range(1,10,3) # 1부터 9까지 1씩 증가하는 range\n",
    "my_list = list(my_range)\n",
    "print(my_list)"
   ]
  },
  {
   "cell_type": "code",
   "execution_count": 26,
   "metadata": {},
   "outputs": [
    {
     "name": "stdout",
     "output_type": "stream",
     "text": [
      "[5]\n"
     ]
    }
   ],
   "source": [
    "# list의 기본 연산\n",
    "a = [1,2,3]\n",
    "b = [4,5,6]\n",
    "\n",
    "result = a + b  # \"+\" 연산은 연결의 의미\n",
    "result = a * 3  # \"*\" 연산 역시 연결의 의미\n",
    "\n",
    "a = [1,2,3,4,5]\n",
    "#a[0] = [9,9,9]\n",
    "# [[9,9,9],2,3,4,5]\n",
    "a[0:1] = [9,9,9]\n",
    "# [9,9,9,2,3,4,5]\n",
    "\n",
    "a = [1,2,3,4,5]\n",
    "#a[0:-1] = []   # list안의 요소를 삭제\n",
    "# del a[0]      # indexing을 이용해서 삭제\n",
    "del a[0:-1]     # slicing을 이용해서 삭제\n",
    "print(a)"
   ]
  },
  {
   "cell_type": "code",
   "execution_count": 34,
   "metadata": {},
   "outputs": [
    {
     "name": "stdout",
     "output_type": "stream",
     "text": [
      "[2, 4, 5, 7, 8, 9]\n",
      "[9, 8, 7, 5, 4, 2]\n",
      "3\n"
     ]
    }
   ],
   "source": [
    "# list가 가지고 있는 함수들\n",
    "my_list = [1,2,3]\n",
    "#my_list.append(4)   # list의 마지막 요소에 추가\n",
    "#my_list.append([9,9,9])   \n",
    "my_list.extend([9,9,9]) # list를 확장시킬 때 사용  \n",
    "\n",
    "my_list = [5,8,2,9,4,7]\n",
    "result = my_list.sort()  # 오름차순 정렬\n",
    "                         # 소팅된 결과를 리턴하지 않아요\n",
    "                         # list원본을 정렬\n",
    "print(my_list)  \n",
    "my_list.reverse()   # list안의 요소를 역순으로 배치\n",
    "                    # 리턴하지 않고 원본을 변경\n",
    "print(my_list)      \n",
    "# 위치를 알아내는 함수 ( index() )\n",
    "my_list = [5,8,2,9,4,7]\n",
    "print(my_list.index(9))"
   ]
  },
  {
   "cell_type": "code",
   "execution_count": 41,
   "metadata": {},
   "outputs": [
    {
     "data": {
      "text/plain": [
       "3"
      ]
     },
     "execution_count": 41,
     "metadata": {},
     "output_type": "execute_result"
    }
   ],
   "source": [
    "# list의 추가적인 함수들\n",
    "a = [1,2,3]\n",
    "a.insert(0,100)  # list안에 원하는 위치에 원하는 값을\n",
    "                 # 추가하고자 할 때 사용\n",
    "a = [1,2,3,1,2,3,1,2,3]\n",
    "a.remove(3)      # list안에서 삭제하고 하는 하는것을\n",
    "                 # 처음 발견한 것만 삭제\n",
    "a = [1,2,3]\n",
    "result = a.pop()  # list의 마지막 요소를 뜯어오는 함수"
   ]
  },
  {
   "cell_type": "code",
   "execution_count": 3,
   "metadata": {},
   "outputs": [
    {
     "name": "stdout",
     "output_type": "stream",
     "text": [
      "True\n",
      "False\n",
      "False\n"
     ]
    }
   ],
   "source": [
    "a = [1,2,3]   # [1,2,3] => list 객체 \n",
    "              # => 메모리 어딘가에(Heap) 저장되어 있어요\n",
    "              # a는 list객체의 시작 메모리 주소에 대한\n",
    "              # reference를 가지고 있어요\n",
    "              # a는 reference variable이라고 해요!\n",
    "#id(a)         # id() reference값을 알아내는 함수\n",
    "b = a\n",
    "print(a is b)  # True\n",
    "               # a와 b가 같은 객체 reference\n",
    "\n",
    "b = a[:] \n",
    "print(a is b)  # False\n",
    "               # a와 b가 서로 다른 객체 reference\n",
    "\n",
    "from copy import copy\n",
    "a = [1,2,3] \n",
    "b = copy(a)\n",
    "print(a is b)  # False\n",
    "               # a와 b가 서로 다른 객체 reference"
   ]
  },
  {
   "cell_type": "code",
   "execution_count": 11,
   "metadata": {},
   "outputs": [
    {
     "name": "stdout",
     "output_type": "stream",
     "text": [
      "(1, 3.14, 'Hello')\n",
      "(1, 2, 3, 4, 5, 6)\n",
      "(1, 2, 3, 4, 5, 6)\n"
     ]
    }
   ],
   "source": [
    "# python의 자료구조 중 list와 상당히 유사\n",
    "# 튜플 ( tuple )\n",
    "# list와 거의 유사\n",
    "# 기호 : ( )  => 소괄호\n",
    "# list는 list안의 값의 수정과 삭제가 가능\n",
    "# tuple은 tuple안의 값의 수정과 삭제가 불가능\n",
    "my_tuple = (1,2,3)   # 튜플의 literal\n",
    "my_tuple = (1,)   # 원소가 1개 있는 튜플의 literal\n",
    "my_tuple = (1,3.14,\"Hello\")   # 일반적인 경우\n",
    "print(my_tuple)\n",
    "my_tuple = 1,2,3,4,5,6   # tuple은 () 생략 가능\n",
    "my_tuple[1]       # tuple에 대한 indexing\n",
    "my_tuple[1:3]     # tuple에 대한 slicing 그 결과도 tuple\n",
    "#my_tuple[0] = 100  # tuple은 값의 수정이 안되요!\n",
    "\n",
    "\n",
    "\n",
    "\n",
    "my_tuple = 1,2,3\n",
    "result = my_tuple + (4,5,6) # tuple도 \"+\" 연산을 지원해요"
   ]
  },
  {
   "cell_type": "code",
   "execution_count": 2,
   "metadata": {},
   "outputs": [
    {
     "data": {
      "text/plain": [
       "['Hello', 'World', '!!']"
      ]
     },
     "execution_count": 2,
     "metadata": {},
     "output_type": "execute_result"
    }
   ],
   "source": [
    "# list와 tuple간의 변환\n",
    "my_list = [1,2,3]\n",
    "my_tuple = tuple(my_list)\n",
    "my_tuple\n",
    "\n",
    "my_tuple = (\"Hello\",\"World\",\"!!\")\n",
    "my_list = list(my_tuple)\n",
    "my_list"
   ]
  },
  {
   "cell_type": "code",
   "execution_count": 70,
   "metadata": {},
   "outputs": [
    {
     "name": "stdout",
     "output_type": "stream",
     "text": [
      "<class 'dict'>\n"
     ]
    },
    {
     "data": {
      "text/plain": [
       "{'name': '홍길동', 'age': 40}"
      ]
     },
     "execution_count": 70,
     "metadata": {},
     "output_type": "execute_result"
    }
   ],
   "source": [
    "# python에서 사용되는 Map\n",
    "# python에서는 dictionary라고 표현해요!\n",
    "# dictionary는 { }로 표현하고 key와 value의 쌍으로 표현\n",
    "# literal의 형태가 => \"JSON\"처럼 생겼어요!\n",
    "my_dict = { \"name\" : \"홍길동\", \"address\" : \"서울\" }\n",
    "print(type(my_dict))\n",
    "my_dict[\"age\"] = 50  # 배열형태로 사용 가능\n",
    "                     # 동적으로 key와 value를 추가,수정\n",
    "                     # 삭제할 수 있어요!\n",
    "del my_dict[\"address\"]  # \"address\" key 삭제\n",
    "my_dict[\"name\"]\n",
    "# key가 중복될수는 없어요! 하나 무시.\n",
    "my_dict = { \"name\" : \"홍길동\", \"age\" : 20, \"age\": 40 }"
   ]
  },
  {
   "cell_type": "code",
   "execution_count": 79,
   "metadata": {},
   "outputs": [
    {
     "name": "stdout",
     "output_type": "stream",
     "text": [
      "name\n",
      "age\n",
      "address\n",
      "홍길동\n",
      "20\n",
      "서울\n",
      "name, 홍길동\n",
      "age, 20\n",
      "address, 서울\n",
      "홍길동\n",
      "홍길동\n",
      "이름없음\n",
      "True\n"
     ]
    }
   ],
   "source": [
    "# dictionary의 일반적인 사용법\n",
    "# 3가지 method를 이용해서 사용해요!\n",
    "# keys() => dictionary의 key들을 dict_keys라는 \n",
    "# type으로 return. => list와 상당히 유사. 하지만\n",
    "# list는 아니기 때문에 list 함수는 사용 불가\n",
    "my_dict = { \"name\":\"홍길동\", \"age\":20, \"address\":\"서울\" }\n",
    "\n",
    "# python에서 block은 indentation으로 표시\n",
    "# 들여쓰기 스페이스 4칸으로 표현\n",
    "for tmp in my_dict.keys():\n",
    "    print(\"{}\".format(tmp))        \n",
    "#  values()라는 함수는 dictionary에서 value만 추출   \n",
    "for tmp in my_dict. values():\n",
    "    print(\"{}\".format(tmp)) \n",
    "# items() 라는 함수는 dictionary에서 (key,value) 추출    \n",
    "for (key,value) in my_dict.items():\n",
    "    print(\"{}, {}\".format(key,value)) \n",
    "\n",
    "# dictionary에서 값을 추출할때는 2가지 방식\n",
    "my_dict = { \"name\":\"홍길동\", \"age\":20, \"address\":\"서울\" }\n",
    "print(my_dict[\"name\"])  # 홍길동\n",
    "print(my_dict.get(\"name\"))  # 함수를 이용해서 사용\n",
    "print(my_dict.get(\"name11\",\"이름없음\"))  # 함수를 이용해서 사용\n",
    "\n",
    "print(\"age\" in my_dict)  # True, my_dict의 key중에 내가 \n",
    "                         # 찾고자 하는게 있는지 확인\n",
    "my_dict.clear()     # 모두 삭제"
   ]
  },
  {
   "cell_type": "code",
   "execution_count": null,
   "metadata": {},
   "outputs": [],
   "source": [
    "\n",
    "bkbjkbjk\n",
    "bhjbihbi\n",
    "bhjibhijbhjhbju\n",
    "hbjihihbi"
   ]
  },
  {
   "cell_type": "code",
   "execution_count": null,
   "metadata": {},
   "outputs": [],
   "source": [
    "sdsddddddddd"
   ]
  }
 ],
 "metadata": {
  "kernelspec": {
   "display_name": "data_env",
   "language": "python",
   "name": "data_env"
  },
  "language_info": {
   "codemirror_mode": {
    "name": "ipython",
    "version": 3
   },
   "file_extension": ".py",
   "mimetype": "text/x-python",
   "name": "python",
   "nbconvert_exporter": "python",
   "pygments_lexer": "ipython3",
   "version": "3.7.1"
  }
 },
 "nbformat": 4,
 "nbformat_minor": 2
}
